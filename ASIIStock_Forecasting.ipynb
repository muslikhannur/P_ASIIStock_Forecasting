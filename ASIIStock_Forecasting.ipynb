{
  "nbformat": 4,
  "nbformat_minor": 0,
  "metadata": {
    "colab": {
      "name": "ASIIStock_Forecasting",
      "provenance": [],
      "collapsed_sections": [],
      "toc_visible": true
    },
    "kernelspec": {
      "name": "python3",
      "display_name": "Python 3"
    }
  },
  "cells": [
    {
      "cell_type": "markdown",
      "metadata": {
        "id": "Om8TlwWAt8_D",
        "colab_type": "text"
      },
      "source": [
        "# ***What is this all About?***\n",
        "> \"Stock Price Forecasting Based On Macroeconomic Factor Using LSTM Architecture\"\n",
        "*   **Source of Datasets** | https://www.investing.com/\n",
        "*   *I do the stock forecasting with various timestep and parameter. The parameters i used are given value and will be mentioned in Model Construction section, Meanwhile the timesteps are experimental-based which starts from 1. I collect the best model for every timestep, which every timestep has 324 models by tuning parameter, once the best model for the next 2 timestep are increasing, the experiment will stops.*\n",
        "* *My Forecasting Result Summary can be seen Below, it requires 3564 models. So the terms 'Univariate' requires the previous day's stock value, Meanwhile, 'Multivariate' requires the previous day's stock and exchange value*\n",
        "\n",
        "> ![ If Img Not Loaded: https://drive.google.com/open?id=165zJ2qdfzoSJv5oMVoEUC62PhTnMjUhf ](https://drive.google.com/uc?id=165zJ2qdfzoSJv5oMVoEUC62PhTnMjUhf)\n",
        "* *Finally based on my Experiments,*\n",
        "* **Univariate stops at 7 which its best model has 1.3465 MAPE, while**\n",
        "* **Multivariate stops at 4 which its best model has 1.3512 MAPE.**"
      ]
    },
    {
      "cell_type": "markdown",
      "metadata": {
        "id": "87UqNntqe5MZ",
        "colab_type": "text"
      },
      "source": [
        "# ***Mount Drive***"
      ]
    },
    {
      "cell_type": "markdown",
      "metadata": {
        "id": "jdPBtSDFmyLt",
        "colab_type": "text"
      },
      "source": [
        "* **Make Drive Directory Visible**"
      ]
    },
    {
      "cell_type": "code",
      "metadata": {
        "id": "IWJrT-Jm66Vk",
        "colab_type": "code",
        "outputId": "f476747f-da4b-44c3-f4e4-66eccd7de381",
        "colab": {
          "base_uri": "https://localhost:8080/",
          "height": 54
        }
      },
      "source": [
        "from google.colab import drive\n",
        "drive.mount('/content/drive')"
      ],
      "execution_count": 1,
      "outputs": [
        {
          "output_type": "stream",
          "text": [
            "Drive already mounted at /content/drive; to attempt to forcibly remount, call drive.mount(\"/content/drive\", force_remount=True).\n"
          ],
          "name": "stdout"
        }
      ]
    },
    {
      "cell_type": "markdown",
      "metadata": {
        "id": "Z0nNFSc_fYDk",
        "colab_type": "text"
      },
      "source": [
        "# ***Load Libraries***"
      ]
    },
    {
      "cell_type": "markdown",
      "metadata": {
        "id": "tpcTmkR1mnK4",
        "colab_type": "text"
      },
      "source": [
        "* **Libraries for Wrangling, Visualizing, Scaling, etc**"
      ]
    },
    {
      "cell_type": "code",
      "metadata": {
        "id": "P4JtVJzYwjhd",
        "colab_type": "code",
        "outputId": "c0205ca6-35a1-455d-8f8d-998c447ebf81",
        "colab": {
          "base_uri": "https://localhost:8080/",
          "height": 71
        }
      },
      "source": [
        "import pandas as pd\n",
        "import numpy as np\n",
        "import matplotlib.pyplot as plt\n",
        "import seaborn as sns\n",
        "import time \n",
        "\n",
        "from numpy import hstack \n",
        "from functools import reduce\n",
        "from sklearn.model_selection import train_test_split\n",
        "from sklearn.preprocessing import MinMaxScaler"
      ],
      "execution_count": 2,
      "outputs": [
        {
          "output_type": "stream",
          "text": [
            "/usr/local/lib/python3.6/dist-packages/statsmodels/tools/_testing.py:19: FutureWarning: pandas.util.testing is deprecated. Use the functions in the public API at pandas.testing instead.\n",
            "  import pandas.util.testing as tm\n"
          ],
          "name": "stderr"
        }
      ]
    },
    {
      "cell_type": "markdown",
      "metadata": {
        "id": "IrdNBb2WmOdl",
        "colab_type": "text"
      },
      "source": [
        "* **Libraries for Modeling using LSTM**"
      ]
    },
    {
      "cell_type": "code",
      "metadata": {
        "id": "9PpvqIUQmi2S",
        "colab_type": "code",
        "colab": {}
      },
      "source": [
        "from tensorflow.python.keras import Sequential      #Create Sequential Layer\n",
        "from tensorflow.python.keras.layers import LSTM     #Create LSTM Layer\n",
        "from tensorflow.python.keras.layers import GRU      #Create GRU Layer / Scenario\n",
        "from tensorflow.python.keras.layers import Dense    #Create Output Layer\n",
        "from tensorflow.python.keras.layers import Dropout  #Create Regularization\n",
        "from tensorflow.python.keras.utils.vis_utils import plot_model\n",
        "\n",
        "from tensorflow.python.keras.layers import CuDNNLSTM     "
      ],
      "execution_count": 0,
      "outputs": []
    },
    {
      "cell_type": "markdown",
      "metadata": {
        "id": "SrkeKVtnkqrX",
        "colab_type": "text"
      },
      "source": [
        "* **Determine Open/Save Directory**"
      ]
    },
    {
      "cell_type": "code",
      "metadata": {
        "id": "p6hqGqJ9k0qe",
        "colab_type": "code",
        "colab": {}
      },
      "source": [
        "pathDatasets = '/content/drive/My Drive/Colab/College - Final Projects/Datasets/' #Getting Datasets\n",
        "pathResults = '/content/drive/My Drive/Colab/College - Final Projects/Results/' #Saving Excel, Image, etc"
      ],
      "execution_count": 0,
      "outputs": []
    },
    {
      "cell_type": "markdown",
      "metadata": {
        "id": "udcmE6MGgI-g",
        "colab_type": "text"
      },
      "source": [
        "# ***Getting Datasets***"
      ]
    },
    {
      "cell_type": "markdown",
      "metadata": {
        "id": "9Ag8I24Of9L2",
        "colab_type": "text"
      },
      "source": [
        "* **Load Data**"
      ]
    },
    {
      "cell_type": "code",
      "metadata": {
        "id": "VUVzfQ3I7Lc4",
        "colab_type": "code",
        "outputId": "edcc545e-6e3b-4bd2-9be1-01ad186918d6",
        "colab": {
          "base_uri": "https://localhost:8080/",
          "height": 419
        }
      },
      "source": [
        "dataset_Kurs = pd.read_csv(pathDatasets + 'USD_IDR.csv', thousands= \",\")             #Predictor\n",
        "dataset_ASII = pd.read_csv(pathDatasets + 'Stock ASII.csv', thousands = \",\")         #Regresor (Main)\n",
        "dataset_KAEF = pd.read_csv(pathDatasets + 'Stock KAEF.csv', thousands = \",\")         #Regresor (Scenario)\n",
        "dataset_SMGR = pd.read_csv(pathDatasets + 'Stock SMGR.csv', thousands = \",\")         #Regresor (Scenario)\n",
        "dataset_ASII\n"
      ],
      "execution_count": 5,
      "outputs": [
        {
          "output_type": "execute_result",
          "data": {
            "text/html": [
              "<div>\n",
              "<style scoped>\n",
              "    .dataframe tbody tr th:only-of-type {\n",
              "        vertical-align: middle;\n",
              "    }\n",
              "\n",
              "    .dataframe tbody tr th {\n",
              "        vertical-align: top;\n",
              "    }\n",
              "\n",
              "    .dataframe thead th {\n",
              "        text-align: right;\n",
              "    }\n",
              "</style>\n",
              "<table border=\"1\" class=\"dataframe\">\n",
              "  <thead>\n",
              "    <tr style=\"text-align: right;\">\n",
              "      <th></th>\n",
              "      <th>Date</th>\n",
              "      <th>Price</th>\n",
              "      <th>Open</th>\n",
              "      <th>High</th>\n",
              "      <th>Low</th>\n",
              "      <th>Vol.</th>\n",
              "      <th>Change %</th>\n",
              "    </tr>\n",
              "  </thead>\n",
              "  <tbody>\n",
              "    <tr>\n",
              "      <th>0</th>\n",
              "      <td>Sep 30, 2019</td>\n",
              "      <td>6600</td>\n",
              "      <td>6650</td>\n",
              "      <td>6675</td>\n",
              "      <td>6575</td>\n",
              "      <td>21.09M</td>\n",
              "      <td>-0.75%</td>\n",
              "    </tr>\n",
              "    <tr>\n",
              "      <th>1</th>\n",
              "      <td>Sep 27, 2019</td>\n",
              "      <td>6650</td>\n",
              "      <td>6700</td>\n",
              "      <td>6700</td>\n",
              "      <td>6600</td>\n",
              "      <td>9.83M</td>\n",
              "      <td>-0.75%</td>\n",
              "    </tr>\n",
              "    <tr>\n",
              "      <th>2</th>\n",
              "      <td>Sep 26, 2019</td>\n",
              "      <td>6700</td>\n",
              "      <td>6575</td>\n",
              "      <td>6700</td>\n",
              "      <td>6525</td>\n",
              "      <td>37.98M</td>\n",
              "      <td>3.08%</td>\n",
              "    </tr>\n",
              "    <tr>\n",
              "      <th>3</th>\n",
              "      <td>Sep 25, 2019</td>\n",
              "      <td>6500</td>\n",
              "      <td>6400</td>\n",
              "      <td>6500</td>\n",
              "      <td>6400</td>\n",
              "      <td>17.78M</td>\n",
              "      <td>0.39%</td>\n",
              "    </tr>\n",
              "    <tr>\n",
              "      <th>4</th>\n",
              "      <td>Sep 24, 2019</td>\n",
              "      <td>6475</td>\n",
              "      <td>6575</td>\n",
              "      <td>6625</td>\n",
              "      <td>6450</td>\n",
              "      <td>29.74M</td>\n",
              "      <td>-2.26%</td>\n",
              "    </tr>\n",
              "    <tr>\n",
              "      <th>...</th>\n",
              "      <td>...</td>\n",
              "      <td>...</td>\n",
              "      <td>...</td>\n",
              "      <td>...</td>\n",
              "      <td>...</td>\n",
              "      <td>...</td>\n",
              "      <td>...</td>\n",
              "    </tr>\n",
              "    <tr>\n",
              "      <th>1208</th>\n",
              "      <td>Oct 07, 2014</td>\n",
              "      <td>6800</td>\n",
              "      <td>6725</td>\n",
              "      <td>6825</td>\n",
              "      <td>6700</td>\n",
              "      <td>24.54M</td>\n",
              "      <td>1.12%</td>\n",
              "    </tr>\n",
              "    <tr>\n",
              "      <th>1209</th>\n",
              "      <td>Oct 06, 2014</td>\n",
              "      <td>6725</td>\n",
              "      <td>6600</td>\n",
              "      <td>6750</td>\n",
              "      <td>6600</td>\n",
              "      <td>23.27M</td>\n",
              "      <td>1.89%</td>\n",
              "    </tr>\n",
              "    <tr>\n",
              "      <th>1210</th>\n",
              "      <td>Oct 03, 2014</td>\n",
              "      <td>6600</td>\n",
              "      <td>6700</td>\n",
              "      <td>6700</td>\n",
              "      <td>6450</td>\n",
              "      <td>52.77M</td>\n",
              "      <td>0.00%</td>\n",
              "    </tr>\n",
              "    <tr>\n",
              "      <th>1211</th>\n",
              "      <td>Oct 02, 2014</td>\n",
              "      <td>6600</td>\n",
              "      <td>6975</td>\n",
              "      <td>6975</td>\n",
              "      <td>6600</td>\n",
              "      <td>77.53M</td>\n",
              "      <td>-5.71%</td>\n",
              "    </tr>\n",
              "    <tr>\n",
              "      <th>1212</th>\n",
              "      <td>Oct 01, 2014</td>\n",
              "      <td>7000</td>\n",
              "      <td>7000</td>\n",
              "      <td>7075</td>\n",
              "      <td>7000</td>\n",
              "      <td>16.22M</td>\n",
              "      <td>-0.71%</td>\n",
              "    </tr>\n",
              "  </tbody>\n",
              "</table>\n",
              "<p>1213 rows × 7 columns</p>\n",
              "</div>"
            ],
            "text/plain": [
              "              Date  Price  Open  High   Low    Vol. Change %\n",
              "0     Sep 30, 2019   6600  6650  6675  6575  21.09M   -0.75%\n",
              "1     Sep 27, 2019   6650  6700  6700  6600   9.83M   -0.75%\n",
              "2     Sep 26, 2019   6700  6575  6700  6525  37.98M    3.08%\n",
              "3     Sep 25, 2019   6500  6400  6500  6400  17.78M    0.39%\n",
              "4     Sep 24, 2019   6475  6575  6625  6450  29.74M   -2.26%\n",
              "...            ...    ...   ...   ...   ...     ...      ...\n",
              "1208  Oct 07, 2014   6800  6725  6825  6700  24.54M    1.12%\n",
              "1209  Oct 06, 2014   6725  6600  6750  6600  23.27M    1.89%\n",
              "1210  Oct 03, 2014   6600  6700  6700  6450  52.77M    0.00%\n",
              "1211  Oct 02, 2014   6600  6975  6975  6600  77.53M   -5.71%\n",
              "1212  Oct 01, 2014   7000  7000  7075  7000  16.22M   -0.71%\n",
              "\n",
              "[1213 rows x 7 columns]"
            ]
          },
          "metadata": {
            "tags": []
          },
          "execution_count": 5
        }
      ]
    },
    {
      "cell_type": "markdown",
      "metadata": {
        "id": "8xB5He47h35p",
        "colab_type": "text"
      },
      "source": [
        "* **Merge Data with Left Join (Ref: dataset_Kurs)**"
      ]
    },
    {
      "cell_type": "code",
      "metadata": {
        "id": "tShKWgXC8Pb2",
        "colab_type": "code",
        "outputId": "4398b970-4cbc-4702-8c10-987c28c3ca65",
        "colab": {
          "base_uri": "https://localhost:8080/",
          "height": 221
        }
      },
      "source": [
        "dataset_merge = [dataset_Kurs, dataset_ASII, dataset_KAEF, dataset_SMGR]\n",
        "dataset_merge = reduce(lambda left,right: pd.merge(left,right,on='Date',how='left'), dataset_merge)\n",
        "dataset_merge['Date']"
      ],
      "execution_count": 6,
      "outputs": [
        {
          "output_type": "execute_result",
          "data": {
            "text/plain": [
              "0       Sep 30, 2019\n",
              "1       Sep 27, 2019\n",
              "2       Sep 26, 2019\n",
              "3       Sep 25, 2019\n",
              "4       Sep 24, 2019\n",
              "            ...     \n",
              "1299    Oct 07, 2014\n",
              "1300    Oct 06, 2014\n",
              "1301    Oct 03, 2014\n",
              "1302    Oct 02, 2014\n",
              "1303    Oct 01, 2014\n",
              "Name: Date, Length: 1304, dtype: object"
            ]
          },
          "metadata": {
            "tags": []
          },
          "execution_count": 6
        }
      ]
    },
    {
      "cell_type": "markdown",
      "metadata": {
        "id": "lgh5LhTrh68T",
        "colab_type": "text"
      },
      "source": [
        "* **Set Data to Appropriate Order based on Date**"
      ]
    },
    {
      "cell_type": "code",
      "metadata": {
        "id": "hUmLTp3hiBS4",
        "colab_type": "code",
        "outputId": "9086dd04-29c5-486c-aa3c-982c40b03ee7",
        "colab": {
          "base_uri": "https://localhost:8080/",
          "height": 221
        }
      },
      "source": [
        "dataset_merge = dataset_merge.iloc[::-1]    #Reverse Order\n",
        "dataset_merge = dataset_merge.reset_index() #Reset to ASC Index\n",
        "dataset_merge['Date']"
      ],
      "execution_count": 7,
      "outputs": [
        {
          "output_type": "execute_result",
          "data": {
            "text/plain": [
              "0       Oct 01, 2014\n",
              "1       Oct 02, 2014\n",
              "2       Oct 03, 2014\n",
              "3       Oct 06, 2014\n",
              "4       Oct 07, 2014\n",
              "            ...     \n",
              "1299    Sep 24, 2019\n",
              "1300    Sep 25, 2019\n",
              "1301    Sep 26, 2019\n",
              "1302    Sep 27, 2019\n",
              "1303    Sep 30, 2019\n",
              "Name: Date, Length: 1304, dtype: object"
            ]
          },
          "metadata": {
            "tags": []
          },
          "execution_count": 7
        }
      ]
    },
    {
      "cell_type": "markdown",
      "metadata": {
        "id": "Q5Wsb4ijiHUG",
        "colab_type": "text"
      },
      "source": [
        "* **Drop some Columns and Renaming**"
      ]
    },
    {
      "cell_type": "code",
      "metadata": {
        "id": "hKn5Hbw7iKt6",
        "colab_type": "code",
        "colab": {}
      },
      "source": [
        "dataset_merge = dataset_merge.drop(['index', 'Change %_x', 'Change %_y', #Change doesn't needed,\n",
        "                                    'Vol.', 'Vol._x', 'Vol._y'], axis = 1) #So does the Volume\n",
        "dataset_merge.columns = ['Date', \n",
        "                         'Price_Kurs', 'Open_Kurs', 'High_Kurs', 'Low_Kurs',\n",
        "                         'Price_ASII', 'Open_ASII', 'High_ASII', 'Low_ASII',\n",
        "                         'Price_KAEF', 'Open_KAEF', 'High_KAEF', 'Low_KAEF',\n",
        "                         'Price_SMGR', 'Open_SMGR', 'High_SMGR', 'Low_SMGR']"
      ],
      "execution_count": 0,
      "outputs": []
    },
    {
      "cell_type": "markdown",
      "metadata": {
        "id": "pA3ag9L_hHWn",
        "colab_type": "text"
      },
      "source": [
        "# ***Data Exploration***"
      ]
    },
    {
      "cell_type": "markdown",
      "metadata": {
        "id": "B-3lojwehSIw",
        "colab_type": "text"
      },
      "source": [
        "* **Check for Appropriate Data Types**"
      ]
    },
    {
      "cell_type": "code",
      "metadata": {
        "id": "0cZ0cteLhROL",
        "colab_type": "code",
        "outputId": "e577d767-3e9a-46f7-ccba-fb0c61ccd305",
        "colab": {
          "base_uri": "https://localhost:8080/",
          "height": 323
        }
      },
      "source": [
        "dataset_merge.dtypes"
      ],
      "execution_count": 9,
      "outputs": [
        {
          "output_type": "execute_result",
          "data": {
            "text/plain": [
              "Date           object\n",
              "Price_Kurs    float64\n",
              "Open_Kurs     float64\n",
              "High_Kurs     float64\n",
              "Low_Kurs      float64\n",
              "Price_ASII    float64\n",
              "Open_ASII     float64\n",
              "High_ASII     float64\n",
              "Low_ASII      float64\n",
              "Price_KAEF    float64\n",
              "Open_KAEF     float64\n",
              "High_KAEF     float64\n",
              "Low_KAEF      float64\n",
              "Price_SMGR    float64\n",
              "Open_SMGR     float64\n",
              "High_SMGR     float64\n",
              "Low_SMGR      float64\n",
              "dtype: object"
            ]
          },
          "metadata": {
            "tags": []
          },
          "execution_count": 9
        }
      ]
    },
    {
      "cell_type": "markdown",
      "metadata": {
        "id": "36kCdaP8ga3Y",
        "colab_type": "text"
      },
      "source": [
        "* **Merged Correlation Plot for Correlation Summary**"
      ]
    },
    {
      "cell_type": "code",
      "metadata": {
        "id": "IdnnD5VpFYRE",
        "colab_type": "code",
        "outputId": "423d0380-a91e-4dd0-e370-5a64b4475e2e",
        "colab": {
          "base_uri": "https://localhost:8080/",
          "height": 772
        }
      },
      "source": [
        "cor_mat = dataset_merge[:].corr()\n",
        "mask = np.array(cor_mat)\n",
        "mask[np.tril_indices_from(mask)] = False\n",
        "fig=plt.gcf()\n",
        "fig.set_size_inches(30,12)\n",
        "sns.heatmap(data=cor_mat,mask=mask,square=True,annot=True,cbar=True)"
      ],
      "execution_count": 10,
      "outputs": [
        {
          "output_type": "execute_result",
          "data": {
            "text/plain": [
              "<matplotlib.axes._subplots.AxesSubplot at 0x7fd3e39537f0>"
            ]
          },
          "metadata": {
            "tags": []
          },
          "execution_count": 10
        },
        {
          "output_type": "display_data",
          "data": {
            "image/png": "[encoded data removed]",
            "text/plain": [
              "<Figure size 2160x864 with 2 Axes>"
            ]
          },
          "metadata": {
            "tags": [],
            "needs_background": "light"
          }
        }
      ]
    },
    {
      "cell_type": "markdown",
      "metadata": {
        "id": "0Mx3MYWXSM-O",
        "colab_type": "text"
      },
      "source": [
        "* **Seperated Correlation Plot for Feature Selection**"
      ]
    },
    {
      "cell_type": "code",
      "metadata": {
        "id": "sLKcg_DJSSYF",
        "colab_type": "code",
        "outputId": "5c520100-1a65-4544-8042-416db83a7098",
        "colab": {
          "base_uri": "https://localhost:8080/",
          "height": 274
        }
      },
      "source": [
        "fig, axes = plt.subplots(ncols=4, figsize=(16, 4))\n",
        "ax1, ax2, ax3, ax4 = axes\n",
        "\n",
        "im1 = ax1.matshow(dataset_Kurs.corr())\n",
        "im2 = ax2.matshow(dataset_ASII.corr())\n",
        "im3 = ax3.matshow(dataset_KAEF.corr())\n",
        "im4 = ax4.matshow(dataset_SMGR.corr())\n",
        "\n",
        "ax1.title.set_text('dataset_Kurs\\n')\n",
        "ax2.title.set_text('dataset_ASII\\n')\n",
        "ax3.title.set_text('dataset_KAEF\\n')\n",
        "ax4.title.set_text('dataset_SMGR\\n')\n",
        "\n",
        "fig.colorbar(im1, ax=ax1)\n",
        "fig.colorbar(im2, ax=ax2)\n",
        "fig.colorbar(im3, ax=ax3)\n",
        "fig.colorbar(im4, ax=ax4)\n",
        "\n",
        "print('Each column in All Dataframe having similiar High Correlation, Selection Time?')"
      ],
      "execution_count": 11,
      "outputs": [
        {
          "output_type": "stream",
          "text": [
            "Each column in All Dataframe having similiar High Correlation, Selection Time?\n"
          ],
          "name": "stdout"
        },
        {
          "output_type": "display_data",
          "data": {
            "image/png": "[encoded data removed]",
            "text/plain": [
              "<Figure size 1152x288 with 8 Axes>"
            ]
          },
          "metadata": {
            "tags": [],
            "needs_background": "light"
          }
        }
      ]
    },
    {
      "cell_type": "markdown",
      "metadata": {
        "id": "UJNZD5-Wg9cp",
        "colab_type": "text"
      },
      "source": [
        "* **Stacked Line Plot for Looking the Trend**"
      ]
    },
    {
      "cell_type": "code",
      "metadata": {
        "id": "KbqTHvBSg02H",
        "colab_type": "code",
        "outputId": "a5e768c9-a1b2-4605-acee-2303899e285c",
        "colab": {
          "base_uri": "https://localhost:8080/",
          "height": 295
        }
      },
      "source": [
        "plt.plot(dataset_merge['Price_Kurs'], color = 'red', label = 'USD/IDR')\n",
        "plt.plot(dataset_merge['Price_ASII'], color = 'green', label = 'ASII')\n",
        "plt.plot(dataset_merge['Price_KAEF'], color = 'blue', label = 'KAEF')\n",
        "plt.plot(dataset_merge['Price_SMGR'], color = 'purple', label = 'SMGR')\n",
        "plt.title('Perbandingan Grafik Kurs, ASII, KAEF, SMGR')\n",
        "plt.xlabel('Time')\n",
        "plt.ylabel('Rupiah')\n",
        "plt.legend()\n",
        "plt.show()"
      ],
      "execution_count": 12,
      "outputs": [
        {
          "output_type": "display_data",
          "data": {
            "image/png": "[encoded data removed]",
            "text/plain": [
              "<Figure size 432x288 with 1 Axes>"
            ]
          },
          "metadata": {
            "tags": [],
            "needs_background": "light"
          }
        }
      ]
    },
    {
      "cell_type": "markdown",
      "metadata": {
        "id": "UDxdH4sGgYFv",
        "colab_type": "text"
      },
      "source": [
        "# ***Pre-Processing - Feature Selection***"
      ]
    },
    {
      "cell_type": "markdown",
      "metadata": {
        "id": "K1nC6j2SmGNu",
        "colab_type": "text"
      },
      "source": [
        "* **Open, High and Low can be Represented by Price Columns**"
      ]
    },
    {
      "cell_type": "code",
      "metadata": {
        "id": "z2AqAaKWFagH",
        "colab_type": "code",
        "outputId": "0bbe10a0-209f-41d2-d4fe-053e619949bb",
        "colab": {
          "base_uri": "https://localhost:8080/",
          "height": 419
        }
      },
      "source": [
        "dataset_merge = dataset_merge.drop(['Open_Kurs', 'High_Kurs', 'Low_Kurs', \n",
        "                                    'Open_ASII', 'High_ASII', 'Low_ASII', \n",
        "                                    'Open_KAEF', 'High_KAEF', 'Low_KAEF', \n",
        "                                    'Open_SMGR', 'High_SMGR', 'Low_SMGR'], axis = 1)\n",
        "dataset_merge"
      ],
      "execution_count": 13,
      "outputs": [
        {
          "output_type": "execute_result",
          "data": {
            "text/html": [
              "<div>\n",
              "<style scoped>\n",
              "    .dataframe tbody tr th:only-of-type {\n",
              "        vertical-align: middle;\n",
              "    }\n",
              "\n",
              "    .dataframe tbody tr th {\n",
              "        vertical-align: top;\n",
              "    }\n",
              "\n",
              "    .dataframe thead th {\n",
              "        text-align: right;\n",
              "    }\n",
              "</style>\n",
              "<table border=\"1\" class=\"dataframe\">\n",
              "  <thead>\n",
              "    <tr style=\"text-align: right;\">\n",
              "      <th></th>\n",
              "      <th>Date</th>\n",
              "      <th>Price_Kurs</th>\n",
              "      <th>Price_ASII</th>\n",
              "      <th>Price_KAEF</th>\n",
              "      <th>Price_SMGR</th>\n",
              "    </tr>\n",
              "  </thead>\n",
              "  <tbody>\n",
              "    <tr>\n",
              "      <th>0</th>\n",
              "      <td>Oct 01, 2014</td>\n",
              "      <td>12127.5</td>\n",
              "      <td>7000.0</td>\n",
              "      <td>1145.0</td>\n",
              "      <td>15150.0</td>\n",
              "    </tr>\n",
              "    <tr>\n",
              "      <th>1</th>\n",
              "      <td>Oct 02, 2014</td>\n",
              "      <td>12150.0</td>\n",
              "      <td>6600.0</td>\n",
              "      <td>1105.0</td>\n",
              "      <td>14700.0</td>\n",
              "    </tr>\n",
              "    <tr>\n",
              "      <th>2</th>\n",
              "      <td>Oct 03, 2014</td>\n",
              "      <td>12176.5</td>\n",
              "      <td>6600.0</td>\n",
              "      <td>1070.0</td>\n",
              "      <td>14625.0</td>\n",
              "    </tr>\n",
              "    <tr>\n",
              "      <th>3</th>\n",
              "      <td>Oct 06, 2014</td>\n",
              "      <td>12210.0</td>\n",
              "      <td>6725.0</td>\n",
              "      <td>1080.0</td>\n",
              "      <td>15050.0</td>\n",
              "    </tr>\n",
              "    <tr>\n",
              "      <th>4</th>\n",
              "      <td>Oct 07, 2014</td>\n",
              "      <td>12202.5</td>\n",
              "      <td>6800.0</td>\n",
              "      <td>1065.0</td>\n",
              "      <td>15400.0</td>\n",
              "    </tr>\n",
              "    <tr>\n",
              "      <th>...</th>\n",
              "      <td>...</td>\n",
              "      <td>...</td>\n",
              "      <td>...</td>\n",
              "      <td>...</td>\n",
              "      <td>...</td>\n",
              "    </tr>\n",
              "    <tr>\n",
              "      <th>1299</th>\n",
              "      <td>Sep 24, 2019</td>\n",
              "      <td>14112.5</td>\n",
              "      <td>6475.0</td>\n",
              "      <td>2940.0</td>\n",
              "      <td>12275.0</td>\n",
              "    </tr>\n",
              "    <tr>\n",
              "      <th>1300</th>\n",
              "      <td>Sep 25, 2019</td>\n",
              "      <td>14150.0</td>\n",
              "      <td>6500.0</td>\n",
              "      <td>2910.0</td>\n",
              "      <td>12225.0</td>\n",
              "    </tr>\n",
              "    <tr>\n",
              "      <th>1301</th>\n",
              "      <td>Sep 26, 2019</td>\n",
              "      <td>14177.5</td>\n",
              "      <td>6700.0</td>\n",
              "      <td>2930.0</td>\n",
              "      <td>12250.0</td>\n",
              "    </tr>\n",
              "    <tr>\n",
              "      <th>1302</th>\n",
              "      <td>Sep 27, 2019</td>\n",
              "      <td>14165.0</td>\n",
              "      <td>6650.0</td>\n",
              "      <td>2920.0</td>\n",
              "      <td>11850.0</td>\n",
              "    </tr>\n",
              "    <tr>\n",
              "      <th>1303</th>\n",
              "      <td>Sep 30, 2019</td>\n",
              "      <td>14195.0</td>\n",
              "      <td>6600.0</td>\n",
              "      <td>2900.0</td>\n",
              "      <td>11550.0</td>\n",
              "    </tr>\n",
              "  </tbody>\n",
              "</table>\n",
              "<p>1304 rows × 5 columns</p>\n",
              "</div>"
            ],
            "text/plain": [
              "              Date  Price_Kurs  Price_ASII  Price_KAEF  Price_SMGR\n",
              "0     Oct 01, 2014     12127.5      7000.0      1145.0     15150.0\n",
              "1     Oct 02, 2014     12150.0      6600.0      1105.0     14700.0\n",
              "2     Oct 03, 2014     12176.5      6600.0      1070.0     14625.0\n",
              "3     Oct 06, 2014     12210.0      6725.0      1080.0     15050.0\n",
              "4     Oct 07, 2014     12202.5      6800.0      1065.0     15400.0\n",
              "...            ...         ...         ...         ...         ...\n",
              "1299  Sep 24, 2019     14112.5      6475.0      2940.0     12275.0\n",
              "1300  Sep 25, 2019     14150.0      6500.0      2910.0     12225.0\n",
              "1301  Sep 26, 2019     14177.5      6700.0      2930.0     12250.0\n",
              "1302  Sep 27, 2019     14165.0      6650.0      2920.0     11850.0\n",
              "1303  Sep 30, 2019     14195.0      6600.0      2900.0     11550.0\n",
              "\n",
              "[1304 rows x 5 columns]"
            ]
          },
          "metadata": {
            "tags": []
          },
          "execution_count": 13
        }
      ]
    },
    {
      "cell_type": "markdown",
      "metadata": {
        "id": "LV34hywAiRFi",
        "colab_type": "text"
      },
      "source": [
        "# ***Pre-Processing - Fill Missing Values***"
      ]
    },
    {
      "cell_type": "markdown",
      "metadata": {
        "id": "X0dcXEWsknlT",
        "colab_type": "text"
      },
      "source": [
        "* **Check Number of Missing Values**"
      ]
    },
    {
      "cell_type": "code",
      "metadata": {
        "id": "p-RSJH2SkmiA",
        "colab_type": "code",
        "outputId": "2a083216-2f9a-4f0f-e438-cd6c1a431f07",
        "colab": {
          "base_uri": "https://localhost:8080/",
          "height": 119
        }
      },
      "source": [
        "dataset_merge.isnull().values.any()\n",
        "dataset_merge.isnull().sum()"
      ],
      "execution_count": 14,
      "outputs": [
        {
          "output_type": "execute_result",
          "data": {
            "text/plain": [
              "Date           0\n",
              "Price_Kurs     0\n",
              "Price_ASII    91\n",
              "Price_KAEF    92\n",
              "Price_SMGR    91\n",
              "dtype: int64"
            ]
          },
          "metadata": {
            "tags": []
          },
          "execution_count": 14
        }
      ]
    },
    {
      "cell_type": "markdown",
      "metadata": {
        "id": "2iWNxH5bksbs",
        "colab_type": "text"
      },
      "source": [
        "* **Fill the Missing Values based on Previous Record**"
      ]
    },
    {
      "cell_type": "code",
      "metadata": {
        "colab_type": "code",
        "id": "GWzxwiCQhnOI",
        "outputId": "1fe087c9-3c40-4a27-ed70-b6db8e0f568a",
        "colab": {
          "base_uri": "https://localhost:8080/",
          "height": 34
        }
      },
      "source": [
        "dataset_merge = dataset_merge.fillna(method='ffill') #Based on Previous Record\n",
        "dataset_merge.isnull().values.any()"
      ],
      "execution_count": 15,
      "outputs": [
        {
          "output_type": "execute_result",
          "data": {
            "text/plain": [
              "False"
            ]
          },
          "metadata": {
            "tags": []
          },
          "execution_count": 15
        }
      ]
    },
    {
      "cell_type": "markdown",
      "metadata": {
        "id": "y4MlHI8NikPv",
        "colab_type": "text"
      },
      "source": [
        "# ***Pre-Processing - Split into Train/Test***"
      ]
    },
    {
      "cell_type": "markdown",
      "metadata": {
        "id": "Vs3yTw0CkAD_",
        "colab_type": "text"
      },
      "source": [
        "* **Determine the Test Proportion**"
      ]
    },
    {
      "cell_type": "code",
      "metadata": {
        "id": "XvZLZabTj-Jx",
        "colab_type": "code",
        "colab": {}
      },
      "source": [
        "n_testProp = 0.3 #Adjustable"
      ],
      "execution_count": 0,
      "outputs": []
    },
    {
      "cell_type": "markdown",
      "metadata": {
        "id": "KOX93zI-kEmT",
        "colab_type": "text"
      },
      "source": [
        "* **Start Spliting for Both Univariate and Multicariate Cases**"
      ]
    },
    {
      "cell_type": "code",
      "metadata": {
        "id": "j3PMKcwkieU7",
        "colab_type": "code",
        "outputId": "799626e5-6d2f-44b9-900a-16b6378b266f",
        "colab": {
          "base_uri": "https://localhost:8080/",
          "height": 51
        }
      },
      "source": [
        "#Split Data Row Univariate - Price ASII Can be Change to: Price_KAEF, Price_SMGR\n",
        "data_Univariate = dataset_merge.loc[:,['Price_ASII']] \n",
        "data_trainUni, data_testUni = train_test_split(data_Univariate, test_size=n_testProp, shuffle=False)\n",
        "data_testUni = data_testUni.reset_index().iloc[:,1:2]\n",
        "data_testActual = data_testUni\n",
        "\n",
        "#Split Data Row Multivariate - Price ASII Can be Change to: Price_KAEF, Price_SMGR\n",
        "data_Multivariate = dataset_merge.loc[:,['Price_Kurs', 'Price_ASII']]\n",
        "data_trainMulti, data_testMulti = train_test_split(data_Multivariate, test_size=n_testProp, shuffle=False)\n",
        "data_testMulti = data_testMulti.reset_index().iloc[:,1:3]\n",
        "data_trainMultiKurs, data_trainMultiSaham = data_trainMulti.iloc[:,0:1], data_trainMulti.iloc[:,1:2]\n",
        "\n",
        "print('Univariate | Train:Test Size  = ' +str(len(data_trainUni))+ ' : ' +str(len(data_testUni))+ \n",
        "      '\\nMultivariate | Train:Test Size  = ' +str(len(data_trainMulti))+ ' : ' +str(len(data_testMulti)))"
      ],
      "execution_count": 17,
      "outputs": [
        {
          "output_type": "stream",
          "text": [
            "Univariate | Train:Test Size  = 912 : 392\n",
            "Multivariate | Train:Test Size  = 912 : 392\n"
          ],
          "name": "stdout"
        }
      ]
    },
    {
      "cell_type": "markdown",
      "metadata": {
        "id": "dPOmxeN-jFIo",
        "colab_type": "text"
      },
      "source": [
        "# ***Pre-Processing - Feature Scaling***"
      ]
    },
    {
      "cell_type": "markdown",
      "metadata": {
        "id": "7AKvX2Oi1x1J",
        "colab_type": "text"
      },
      "source": [
        "* **Scaling Train Univariate**"
      ]
    },
    {
      "cell_type": "code",
      "metadata": {
        "id": "F-GQkXmd10s5",
        "colab_type": "code",
        "outputId": "dc97a895-51c0-45ad-fc7a-d180285d998c",
        "colab": {
          "base_uri": "https://localhost:8080/",
          "height": 102
        }
      },
      "source": [
        "sc = MinMaxScaler(feature_range = (0, 1)) \n",
        "data_trainUni = sc.fit_transform(data_trainUni)\n",
        "\n",
        "for i in range(5): #Sampling 5 Row \n",
        "\tprint(data_trainUni[i]) #Merge for Check Data Structure"
      ],
      "execution_count": 18,
      "outputs": [
        {
          "output_type": "stream",
          "text": [
            "[0.46583851]\n",
            "[0.36645963]\n",
            "[0.36645963]\n",
            "[0.39751553]\n",
            "[0.41614907]\n"
          ],
          "name": "stdout"
        }
      ]
    },
    {
      "cell_type": "markdown",
      "metadata": {
        "id": "yas9s6YI1uNf",
        "colab_type": "text"
      },
      "source": [
        "* **Scaling Train Multivariate using Different Scaler**"
      ]
    },
    {
      "cell_type": "code",
      "metadata": {
        "id": "8pyBiPE3jNmO",
        "colab_type": "code",
        "outputId": "f715fc70-6a62-48ae-8f4d-4f181a768ed3",
        "colab": {
          "base_uri": "https://localhost:8080/",
          "height": 102
        }
      },
      "source": [
        "scI = MinMaxScaler(feature_range = (0, 1))\n",
        "scD = MinMaxScaler(feature_range = (0, 1))\n",
        "data_trainMultiKurs = scI.fit_transform(data_trainMultiKurs)\n",
        "data_trainMultiSaham = scD.fit_transform(data_trainMultiSaham)\n",
        "\n",
        "for i in range(5): #Sampling 5 Row \n",
        "\tprint(data_trainMultiKurs[i], data_trainMultiSaham[i])  #Merge for Check Data Structure"
      ],
      "execution_count": 19,
      "outputs": [
        {
          "output_type": "stream",
          "text": [
            "[0.04726599] [0.46583851]\n",
            "[0.05560704] [0.36645963]\n",
            "[0.06543095] [0.36645963]\n",
            "[0.07784986] [0.39751553]\n",
            "[0.07506951] [0.41614907]\n"
          ],
          "name": "stdout"
        }
      ]
    },
    {
      "cell_type": "markdown",
      "metadata": {
        "id": "SlraxuubnRCj",
        "colab_type": "text"
      },
      "source": [
        "# ***Pre-Processing - Build Data Structure***"
      ]
    },
    {
      "cell_type": "markdown",
      "metadata": {
        "id": "0_Yeu5kt2B_y",
        "colab_type": "text"
      },
      "source": [
        "* **Determine the Timestep, with Illustration**\n",
        "\n",
        "![ If Img Not Loaded: https://drive.google.com/open?id=1U5Bnf1PckENUAIiw0iUMj0ewXxW2j5PJ ](https://drive.google.com/uc?id=1U5Bnf1PckENUAIiw0iUMj0ewXxW2j5PJ)\n",
        "\n"
      ]
    },
    {
      "cell_type": "code",
      "metadata": {
        "id": "0TfNxtKO2CKI",
        "colab_type": "code",
        "colab": {}
      },
      "source": [
        "n_timestep = 5 #Adjustable"
      ],
      "execution_count": 0,
      "outputs": []
    },
    {
      "cell_type": "markdown",
      "metadata": {
        "id": "u65do3IV2CaJ",
        "colab_type": "text"
      },
      "source": [
        "* **Univariate Training Set Data Structure**"
      ]
    },
    {
      "cell_type": "code",
      "metadata": {
        "id": "Hxvok8hI2Cir",
        "colab_type": "code",
        "outputId": "4fa1bf84-cd07-49d5-8328-e4bcf255378a",
        "colab": {
          "base_uri": "https://localhost:8080/",
          "height": 442
        }
      },
      "source": [
        "x_trainUni = [] #Univariate Predictor\n",
        "y_trainUni = [] #Univariate Regresor\n",
        "for i in range(n_timestep, len(data_trainUni)):\n",
        "    x_trainUni.append(data_trainUni[i-n_timestep:i, 0])\n",
        "    y_trainUni.append(data_trainUni [i, 0])\n",
        "x_trainUni, y_trainUni = np.array(x_trainUni), np.array(y_trainUni)\n",
        "x_trainUni = np.reshape(x_trainUni, (x_trainUni.shape[0], x_trainUni.shape[1], 1))\n",
        "\n",
        "for i in range(5): #Sampling 5 Row  \n",
        "\tprint(x_trainUni[i], y_trainUni[i]) #Merge for Check Data Structure"
      ],
      "execution_count": 21,
      "outputs": [
        {
          "output_type": "stream",
          "text": [
            "[[0.46583851]\n",
            " [0.36645963]\n",
            " [0.36645963]\n",
            " [0.39751553]\n",
            " [0.41614907]] 0.3913043478260869\n",
            "[[0.36645963]\n",
            " [0.36645963]\n",
            " [0.39751553]\n",
            " [0.41614907]\n",
            " [0.39130435]] 0.39751552795031064\n",
            "[[0.36645963]\n",
            " [0.39751553]\n",
            " [0.41614907]\n",
            " [0.39130435]\n",
            " [0.39751553]] 0.3416149068322982\n",
            "[[0.39751553]\n",
            " [0.41614907]\n",
            " [0.39130435]\n",
            " [0.39751553]\n",
            " [0.34161491]] 0.30434782608695654\n",
            "[[0.41614907]\n",
            " [0.39130435]\n",
            " [0.39751553]\n",
            " [0.34161491]\n",
            " [0.30434783]] 0.31677018633540377\n"
          ],
          "name": "stdout"
        }
      ]
    },
    {
      "cell_type": "markdown",
      "metadata": {
        "id": "SyJ563-g3uDu",
        "colab_type": "text"
      },
      "source": [
        "* **Multivariate Training Set Data Structure**"
      ]
    },
    {
      "cell_type": "code",
      "metadata": {
        "id": "fTKxBhjb3xIo",
        "colab_type": "code",
        "outputId": "ddda0070-c924-4e5b-bfbf-60bc8eb39858",
        "colab": {
          "base_uri": "https://localhost:8080/",
          "height": 442
        }
      },
      "source": [
        "#Make one Cell consist of n_timestep\n",
        "data_trainMultiHstack = hstack((data_trainMultiKurs, data_trainMultiSaham)) \n",
        "\n",
        "x_trainMulti = [] #Univariate Predictor\n",
        "y_trainMulti = [] #Univariate Regresor\n",
        "for i in range(n_timestep, len(data_trainMultiHstack)):\n",
        "    x_trainMulti.append(data_trainMultiHstack[(i-n_timestep):i])\n",
        "    y_trainMulti.append(data_trainMultiSaham[i,0])\n",
        "x_trainMulti, y_trainMulti = np.array(x_trainMulti), np.array(y_trainMulti)\n",
        "\n",
        "for i in range(5): #Sampling 5 Row \n",
        "\tprint(x_trainMulti[i], y_trainMulti[i]) #Merge for Check Data Structure"
      ],
      "execution_count": 22,
      "outputs": [
        {
          "output_type": "stream",
          "text": [
            "[[0.04726599 0.46583851]\n",
            " [0.05560704 0.36645963]\n",
            " [0.06543095 0.36645963]\n",
            " [0.07784986 0.39751553]\n",
            " [0.07506951 0.41614907]] 0.3913043478260869\n",
            "[[0.05560704 0.36645963]\n",
            " [0.06543095 0.36645963]\n",
            " [0.07784986 0.39751553]\n",
            " [0.07506951 0.41614907]\n",
            " [0.08897127 0.39130435]] 0.39751552795031064\n",
            "[[0.06543095 0.36645963]\n",
            " [0.07784986 0.39751553]\n",
            " [0.07506951 0.41614907]\n",
            " [0.08897127 0.39130435]\n",
            " [0.06858202 0.39751553]] 0.3416149068322982\n",
            "[[0.07784986 0.39751553]\n",
            " [0.07506951 0.41614907]\n",
            " [0.08897127 0.39130435]\n",
            " [0.06858202 0.39751553]\n",
            " [0.081557   0.34161491]] 0.30434782608695654\n",
            "[[0.07506951 0.41614907]\n",
            " [0.08897127 0.39130435]\n",
            " [0.06858202 0.39751553]\n",
            " [0.081557   0.34161491]\n",
            " [0.08007414 0.30434783]] 0.31677018633540377\n"
          ],
          "name": "stdout"
        }
      ]
    },
    {
      "cell_type": "markdown",
      "metadata": {
        "id": "_w8KQ0bIS6q2",
        "colab_type": "text"
      },
      "source": [
        "* **Univariate Test Set Data Structure**"
      ]
    },
    {
      "cell_type": "code",
      "metadata": {
        "id": "fSsJ_dSP3_67",
        "colab_type": "code",
        "outputId": "6a8ba125-fd70-40d8-fc0f-08839115f9f3",
        "colab": {
          "base_uri": "https://localhost:8080/",
          "height": 442
        }
      },
      "source": [
        "inputs_uni = data_Univariate[len(data_Univariate) - len(data_testUni) - n_timestep:].values \n",
        "inputs_uni = sc.transform(inputs_uni)\n",
        "\n",
        "x_testUni = [] #Univariate Predictor for Forecasting\n",
        "for i in range(n_timestep, len(inputs_uni)): \n",
        "    x_testUni.append(inputs_uni[i-n_timestep:i, 0])\n",
        "x_testUni = np.array(x_testUni)\n",
        "x_testUni = np.reshape(x_testUni, (x_testUni.shape[0], x_testUni.shape[1], 1))\n",
        "\n",
        "for i in range(5): #Sampling 5 Row \n",
        "\tprint(x_testUni[i]) #Merge for Check Data Structure"
      ],
      "execution_count": 23,
      "outputs": [
        {
          "output_type": "stream",
          "text": [
            "[[0.53416149]\n",
            " [0.52173913]\n",
            " [0.54037267]\n",
            " [0.49068323]\n",
            " [0.54037267]]\n",
            "[[0.52173913]\n",
            " [0.54037267]\n",
            " [0.49068323]\n",
            " [0.54037267]\n",
            " [0.54037267]]\n",
            "[[0.54037267]\n",
            " [0.49068323]\n",
            " [0.54037267]\n",
            " [0.54037267]\n",
            " [0.60248447]]\n",
            "[[0.49068323]\n",
            " [0.54037267]\n",
            " [0.54037267]\n",
            " [0.60248447]\n",
            " [0.63354037]]\n",
            "[[0.54037267]\n",
            " [0.54037267]\n",
            " [0.60248447]\n",
            " [0.63354037]\n",
            " [0.60869565]]\n"
          ],
          "name": "stdout"
        }
      ]
    },
    {
      "cell_type": "markdown",
      "metadata": {
        "id": "1nUHiNBdTFUN",
        "colab_type": "text"
      },
      "source": [
        "* **Multivariate Test Set Data Structure**"
      ]
    },
    {
      "cell_type": "code",
      "metadata": {
        "id": "S3nmGPDj4CaI",
        "colab_type": "code",
        "outputId": "67ab35a6-5538-4668-bd9e-e6a6e115b9a8",
        "colab": {
          "base_uri": "https://localhost:8080/",
          "height": 442
        }
      },
      "source": [
        "inputs_multi = data_Multivariate[len(data_Multivariate) - len(data_testMulti) - n_timestep:].values\n",
        "inputs_multi = pd.DataFrame(inputs_multi) \n",
        "inputs_multi.columns = ['Price_Kurs', 'Price_Saham']\n",
        "\n",
        "data_testMultiKurs, data_testMultiSaham = inputs_multi.iloc[:,0:1], inputs_multi.iloc[:,1:2] \n",
        "data_testMultiKurs = scI.transform(data_testMultiKurs)\n",
        "data_testMultiSaham = scD.transform(data_testMultiSaham)\n",
        "data_testMultiHstack = hstack((data_testMultiKurs, data_testMultiSaham))\n",
        "\n",
        "x_testMulti = [] #Multivariate Predictor for Forecasting\n",
        "for i in range(n_timestep, len(inputs_multi)): \n",
        "    x_testMulti.append(data_testMultiHstack[i-n_timestep:i, : ])\n",
        "x_testMulti = np.array(x_testMulti)\n",
        "x_testMulti = x_testMulti.reshape((x_testMulti.shape[0], x_testMulti.shape[1], 2))\n",
        "\n",
        "for i in range(5): #Sampling 5 Row \n",
        "\tprint(x_testMulti[i]) #Merge for Check Data Structure"
      ],
      "execution_count": 24,
      "outputs": [
        {
          "output_type": "stream",
          "text": [
            "[[0.66079703 0.53416149]\n",
            " [0.64504171 0.52173913]\n",
            " [0.64578313 0.54037267]\n",
            " [0.65356812 0.49068323]\n",
            " [0.65430955 0.54037267]]\n",
            "[[0.64504171 0.52173913]\n",
            " [0.64578313 0.54037267]\n",
            " [0.65356812 0.49068323]\n",
            " [0.65430955 0.54037267]\n",
            " [0.65430955 0.54037267]]\n",
            "[[0.64578313 0.54037267]\n",
            " [0.65356812 0.49068323]\n",
            " [0.65430955 0.54037267]\n",
            " [0.65430955 0.54037267]\n",
            " [0.6502317  0.60248447]]\n",
            "[[0.65356812 0.49068323]\n",
            " [0.65430955 0.54037267]\n",
            " [0.65430955 0.54037267]\n",
            " [0.6502317  0.60248447]\n",
            " [0.65412419 0.63354037]]\n",
            "[[0.65430955 0.54037267]\n",
            " [0.65430955 0.54037267]\n",
            " [0.6502317  0.60248447]\n",
            " [0.65412419 0.63354037]\n",
            " [0.65486562 0.60869565]]\n"
          ],
          "name": "stdout"
        }
      ]
    },
    {
      "cell_type": "markdown",
      "metadata": {
        "id": "zgWMjhkr4Ea1",
        "colab_type": "text"
      },
      "source": [
        "# ***Model Construction / Training***"
      ]
    },
    {
      "cell_type": "markdown",
      "metadata": {
        "id": "-J7c9QfEjPux",
        "colab_type": "text"
      },
      "source": [
        "* **Determine Adjustable Parameters into Variables**"
      ]
    },
    {
      "cell_type": "code",
      "metadata": {
        "id": "LcCCqN8t4L3j",
        "colab_type": "code",
        "colab": {}
      },
      "source": [
        "n_DenseUnits = 1                #Since the Output are Consist of 1 Results\n",
        "n_loss = 'mean_squared_error'   #Loss Function\n",
        "\n",
        "# Given Value Parameters\n",
        "n_LSTMunits = 50         #Adjustable : 10, 30, 50\n",
        "n_DropoutRate = 0.1      #Adjustable : 0.1, 0.3, 0.5\n",
        "n_optimizer = 'RMSprop'  #Adjustable : Adam, RMSprop, SGD\n",
        "n_epoch = 150            #Adjustable : 50, 100, 150, 200\n",
        "n_batchsize = 32         #Adjustable : 32, 64, 96"
      ],
      "execution_count": 0,
      "outputs": []
    },
    {
      "cell_type": "markdown",
      "metadata": {
        "id": "x-vbLmtijXv1",
        "colab_type": "text"
      },
      "source": [
        "* **Build Univariate LSTM Models**"
      ]
    },
    {
      "cell_type": "code",
      "metadata": {
        "id": "6mrKJ3My4ONq",
        "colab_type": "code",
        "outputId": "c9c59982-a34d-445f-ee1c-ef01e6b62195",
        "colab": {
          "base_uri": "https://localhost:8080/",
          "height": 1000
        }
      },
      "source": [
        "modelUni = Sequential()\n",
        "modelUni.add(LSTM(units = n_LSTMunits, input_shape = (x_trainUni.shape[1], x_trainUni.shape[2])))\n",
        "modelUni.add(Dropout(rate = n_DropoutRate))\n",
        "modelUni.add(Dense(units = n_DenseUnits))\n",
        "modelUni.compile(optimizer = n_optimizer, loss = n_loss)\n",
        "\n",
        "#Record the Training Time & Last Loss in Model Construction\n",
        "startTrain = time.perf_counter()\n",
        "historyUni = modelUni.fit(x = x_trainUni, y = y_trainUni, epochs = n_epoch, batch_size = n_batchsize)\n",
        "elapsedTrainUni = time.perf_counter() - startTrain\n",
        "TTUni = '%.4f' % elapsedTrainUni\n",
        "LastLossUni = '%.4f' % historyUni.history['loss'][-1]"
      ],
      "execution_count": 26,
      "outputs": [
        {
          "output_type": "stream",
          "text": [
            "Epoch 1/150\n",
            "29/29 [==============================] - 0s 4ms/step - loss: 0.1092\n",
            "Epoch 2/150\n",
            "29/29 [==============================] - 0s 4ms/step - loss: 0.0073\n",
            "Epoch 3/150\n",
            "29/29 [==============================] - 0s 4ms/step - loss: 0.0056\n",
            "Epoch 4/150\n",
            "29/29 [==============================] - 0s 4ms/step - loss: 0.0052\n",
            "Epoch 5/150\n",
            "29/29 [==============================] - 0s 4ms/step - loss: 0.0046\n",
            "Epoch 6/150\n",
            "29/29 [==============================] - 0s 4ms/step - loss: 0.0045\n",
            "Epoch 7/150\n",
            "29/29 [==============================] - 0s 4ms/step - loss: 0.0041\n",
            "Epoch 8/150\n",
            "29/29 [==============================] - 0s 4ms/step - loss: 0.0041\n",
            "Epoch 9/150\n",
            "29/29 [==============================] - 0s 5ms/step - loss: 0.0038\n",
            "Epoch 10/150\n",
            "29/29 [==============================] - 0s 4ms/step - loss: 0.0039\n",
            "Epoch 11/150\n",
            "29/29 [==============================] - 0s 5ms/step - loss: 0.0039\n",
            "Epoch 12/150\n",
            "29/29 [==============================] - 0s 4ms/step - loss: 0.0038\n",
            "Epoch 13/150\n",
            "29/29 [==============================] - 0s 4ms/step - loss: 0.0038\n",
            "Epoch 14/150\n",
            "29/29 [==============================] - 0s 4ms/step - loss: 0.0037\n",
            "Epoch 15/150\n",
            "29/29 [==============================] - 0s 4ms/step - loss: 0.0034\n",
            "Epoch 16/150\n",
            "29/29 [==============================] - 0s 4ms/step - loss: 0.0035\n",
            "Epoch 17/150\n",
            "29/29 [==============================] - 0s 4ms/step - loss: 0.0036\n",
            "Epoch 18/150\n",
            "29/29 [==============================] - 0s 4ms/step - loss: 0.0034\n",
            "Epoch 19/150\n",
            "29/29 [==============================] - 0s 5ms/step - loss: 0.0033\n",
            "Epoch 20/150\n",
            "29/29 [==============================] - 0s 4ms/step - loss: 0.0035\n",
            "Epoch 21/150\n",
            "29/29 [==============================] - 0s 4ms/step - loss: 0.0032\n",
            "Epoch 22/150\n",
            "29/29 [==============================] - 0s 4ms/step - loss: 0.0033\n",
            "Epoch 23/150\n",
            "29/29 [==============================] - 0s 4ms/step - loss: 0.0030\n",
            "Epoch 24/150\n",
            "29/29 [==============================] - 0s 4ms/step - loss: 0.0032\n",
            "Epoch 25/150\n",
            "29/29 [==============================] - 0s 4ms/step - loss: 0.0032\n",
            "Epoch 26/150\n",
            "29/29 [==============================] - 0s 4ms/step - loss: 0.0033\n",
            "Epoch 27/150\n",
            "29/29 [==============================] - 0s 4ms/step - loss: 0.0031\n",
            "Epoch 28/150\n",
            "29/29 [==============================] - 0s 4ms/step - loss: 0.0029\n",
            "Epoch 29/150\n",
            "29/29 [==============================] - 0s 4ms/step - loss: 0.0029\n",
            "Epoch 30/150\n",
            "29/29 [==============================] - 0s 4ms/step - loss: 0.0029\n",
            "Epoch 31/150\n",
            "29/29 [==============================] - 0s 4ms/step - loss: 0.0027\n",
            "Epoch 32/150\n",
            "29/29 [==============================] - 0s 4ms/step - loss: 0.0030\n",
            "Epoch 33/150\n",
            "29/29 [==============================] - 0s 4ms/step - loss: 0.0026\n",
            "Epoch 34/150\n",
            "29/29 [==============================] - 0s 4ms/step - loss: 0.0027\n",
            "Epoch 35/150\n",
            "29/29 [==============================] - 0s 4ms/step - loss: 0.0028\n",
            "Epoch 36/150\n",
            "29/29 [==============================] - 0s 4ms/step - loss: 0.0026\n",
            "Epoch 37/150\n",
            "29/29 [==============================] - 0s 4ms/step - loss: 0.0028\n",
            "Epoch 38/150\n",
            "29/29 [==============================] - 0s 4ms/step - loss: 0.0027\n",
            "Epoch 39/150\n",
            "29/29 [==============================] - 0s 5ms/step - loss: 0.0026\n",
            "Epoch 40/150\n",
            "29/29 [==============================] - 0s 5ms/step - loss: 0.0026\n",
            "Epoch 41/150\n",
            "29/29 [==============================] - 0s 5ms/step - loss: 0.0024\n",
            "Epoch 42/150\n",
            "29/29 [==============================] - 0s 5ms/step - loss: 0.0027\n",
            "Epoch 43/150\n",
            "29/29 [==============================] - 0s 4ms/step - loss: 0.0025\n",
            "Epoch 44/150\n",
            "29/29 [==============================] - 0s 4ms/step - loss: 0.0027\n",
            "Epoch 45/150\n",
            "29/29 [==============================] - 0s 4ms/step - loss: 0.0027\n",
            "Epoch 46/150\n",
            "29/29 [==============================] - 0s 4ms/step - loss: 0.0024\n",
            "Epoch 47/150\n",
            "29/29 [==============================] - 0s 4ms/step - loss: 0.0026\n",
            "Epoch 48/150\n",
            "29/29 [==============================] - 0s 4ms/step - loss: 0.0024\n",
            "Epoch 49/150\n",
            "29/29 [==============================] - 0s 4ms/step - loss: 0.0024\n",
            "Epoch 50/150\n",
            "29/29 [==============================] - 0s 5ms/step - loss: 0.0025\n",
            "Epoch 51/150\n",
            "29/29 [==============================] - 0s 4ms/step - loss: 0.0024\n",
            "Epoch 52/150\n",
            "29/29 [==============================] - 0s 4ms/step - loss: 0.0025\n",
            "Epoch 53/150\n",
            "29/29 [==============================] - 0s 4ms/step - loss: 0.0023\n",
            "Epoch 54/150\n",
            "29/29 [==============================] - 0s 4ms/step - loss: 0.0025\n",
            "Epoch 55/150\n",
            "29/29 [==============================] - 0s 4ms/step - loss: 0.0022\n",
            "Epoch 56/150\n",
            "29/29 [==============================] - 0s 4ms/step - loss: 0.0024\n",
            "Epoch 57/150\n",
            "29/29 [==============================] - 0s 4ms/step - loss: 0.0024\n",
            "Epoch 58/150\n",
            "29/29 [==============================] - 0s 4ms/step - loss: 0.0023\n",
            "Epoch 59/150\n",
            "29/29 [==============================] - 0s 4ms/step - loss: 0.0025\n",
            "Epoch 60/150\n",
            "29/29 [==============================] - 0s 4ms/step - loss: 0.0022\n",
            "Epoch 61/150\n",
            "29/29 [==============================] - 0s 5ms/step - loss: 0.0024\n",
            "Epoch 62/150\n",
            "29/29 [==============================] - 0s 4ms/step - loss: 0.0021\n",
            "Epoch 63/150\n",
            "29/29 [==============================] - 0s 3ms/step - loss: 0.0022\n",
            "Epoch 64/150\n",
            "29/29 [==============================] - 0s 3ms/step - loss: 0.0022\n",
            "Epoch 65/150\n",
            "29/29 [==============================] - 0s 4ms/step - loss: 0.0022\n",
            "Epoch 66/150\n",
            "29/29 [==============================] - 0s 4ms/step - loss: 0.0022\n",
            "Epoch 67/150\n",
            "29/29 [==============================] - 0s 4ms/step - loss: 0.0022\n",
            "Epoch 68/150\n",
            "29/29 [==============================] - 0s 4ms/step - loss: 0.0021\n",
            "Epoch 69/150\n",
            "29/29 [==============================] - 0s 4ms/step - loss: 0.0022\n",
            "Epoch 70/150\n",
            "29/29 [==============================] - 0s 4ms/step - loss: 0.0021\n",
            "Epoch 71/150\n",
            "29/29 [==============================] - 0s 4ms/step - loss: 0.0021\n",
            "Epoch 72/150\n",
            "29/29 [==============================] - 0s 4ms/step - loss: 0.0021\n",
            "Epoch 73/150\n",
            "29/29 [==============================] - 0s 4ms/step - loss: 0.0020\n",
            "Epoch 74/150\n",
            "29/29 [==============================] - 0s 4ms/step - loss: 0.0020\n",
            "Epoch 75/150\n",
            "29/29 [==============================] - 0s 4ms/step - loss: 0.0020\n",
            "Epoch 76/150\n",
            "29/29 [==============================] - 0s 4ms/step - loss: 0.0021\n",
            "Epoch 77/150\n",
            "29/29 [==============================] - 0s 3ms/step - loss: 0.0022\n",
            "Epoch 78/150\n",
            "29/29 [==============================] - 0s 4ms/step - loss: 0.0021\n",
            "Epoch 79/150\n",
            "29/29 [==============================] - 0s 4ms/step - loss: 0.0020\n",
            "Epoch 80/150\n",
            "29/29 [==============================] - 0s 4ms/step - loss: 0.0021\n",
            "Epoch 81/150\n",
            "29/29 [==============================] - 0s 4ms/step - loss: 0.0019\n",
            "Epoch 82/150\n",
            "29/29 [==============================] - 0s 4ms/step - loss: 0.0020\n",
            "Epoch 83/150\n",
            "29/29 [==============================] - 0s 4ms/step - loss: 0.0020\n",
            "Epoch 84/150\n",
            "29/29 [==============================] - 0s 4ms/step - loss: 0.0021\n",
            "Epoch 85/150\n",
            "29/29 [==============================] - 0s 4ms/step - loss: 0.0019\n",
            "Epoch 86/150\n",
            "29/29 [==============================] - 0s 4ms/step - loss: 0.0020\n",
            "Epoch 87/150\n",
            "29/29 [==============================] - 0s 4ms/step - loss: 0.0020\n",
            "Epoch 88/150\n",
            "29/29 [==============================] - 0s 4ms/step - loss: 0.0020\n",
            "Epoch 89/150\n",
            "29/29 [==============================] - 0s 4ms/step - loss: 0.0020\n",
            "Epoch 90/150\n",
            "29/29 [==============================] - 0s 4ms/step - loss: 0.0020\n",
            "Epoch 91/150\n",
            "29/29 [==============================] - 0s 4ms/step - loss: 0.0019\n",
            "Epoch 92/150\n",
            "29/29 [==============================] - 0s 4ms/step - loss: 0.0019\n",
            "Epoch 93/150\n",
            "29/29 [==============================] - 0s 4ms/step - loss: 0.0019\n",
            "Epoch 94/150\n",
            "29/29 [==============================] - 0s 4ms/step - loss: 0.0019\n",
            "Epoch 95/150\n",
            "29/29 [==============================] - 0s 3ms/step - loss: 0.0018\n",
            "Epoch 96/150\n",
            "29/29 [==============================] - 0s 3ms/step - loss: 0.0018\n",
            "Epoch 97/150\n",
            "29/29 [==============================] - 0s 4ms/step - loss: 0.0018\n",
            "Epoch 98/150\n",
            "29/29 [==============================] - 0s 4ms/step - loss: 0.0019\n",
            "Epoch 99/150\n",
            "29/29 [==============================] - 0s 4ms/step - loss: 0.0019\n",
            "Epoch 100/150\n",
            "29/29 [==============================] - 0s 4ms/step - loss: 0.0017\n",
            "Epoch 101/150\n",
            "29/29 [==============================] - 0s 4ms/step - loss: 0.0017\n",
            "Epoch 102/150\n",
            "29/29 [==============================] - 0s 4ms/step - loss: 0.0019\n",
            "Epoch 103/150\n",
            "29/29 [==============================] - 0s 4ms/step - loss: 0.0019\n",
            "Epoch 104/150\n",
            "29/29 [==============================] - 0s 4ms/step - loss: 0.0019\n",
            "Epoch 105/150\n",
            "29/29 [==============================] - 0s 4ms/step - loss: 0.0018\n",
            "Epoch 106/150\n",
            "29/29 [==============================] - 0s 4ms/step - loss: 0.0018\n",
            "Epoch 107/150\n",
            "29/29 [==============================] - 0s 4ms/step - loss: 0.0019\n",
            "Epoch 108/150\n",
            "29/29 [==============================] - 0s 4ms/step - loss: 0.0017\n",
            "Epoch 109/150\n",
            "29/29 [==============================] - 0s 4ms/step - loss: 0.0019\n",
            "Epoch 110/150\n",
            "29/29 [==============================] - 0s 4ms/step - loss: 0.0018\n",
            "Epoch 111/150\n",
            "29/29 [==============================] - 0s 4ms/step - loss: 0.0018\n",
            "Epoch 112/150\n",
            "29/29 [==============================] - 0s 4ms/step - loss: 0.0018\n",
            "Epoch 113/150\n",
            "29/29 [==============================] - 0s 4ms/step - loss: 0.0017\n",
            "Epoch 114/150\n",
            "29/29 [==============================] - 0s 4ms/step - loss: 0.0018\n",
            "Epoch 115/150\n",
            "29/29 [==============================] - 0s 4ms/step - loss: 0.0018\n",
            "Epoch 116/150\n",
            "29/29 [==============================] - 0s 4ms/step - loss: 0.0018\n",
            "Epoch 117/150\n",
            "29/29 [==============================] - 0s 4ms/step - loss: 0.0018\n",
            "Epoch 118/150\n",
            "29/29 [==============================] - 0s 4ms/step - loss: 0.0017\n",
            "Epoch 119/150\n",
            "29/29 [==============================] - 0s 4ms/step - loss: 0.0017\n",
            "Epoch 120/150\n",
            "29/29 [==============================] - 0s 4ms/step - loss: 0.0017\n",
            "Epoch 121/150\n",
            "29/29 [==============================] - 0s 4ms/step - loss: 0.0017\n",
            "Epoch 122/150\n",
            "29/29 [==============================] - 0s 4ms/step - loss: 0.0017\n",
            "Epoch 123/150\n",
            "29/29 [==============================] - 0s 4ms/step - loss: 0.0018\n",
            "Epoch 124/150\n",
            "29/29 [==============================] - 0s 4ms/step - loss: 0.0018\n",
            "Epoch 125/150\n",
            "29/29 [==============================] - 0s 4ms/step - loss: 0.0018\n",
            "Epoch 126/150\n",
            "29/29 [==============================] - 0s 4ms/step - loss: 0.0018\n",
            "Epoch 127/150\n",
            "29/29 [==============================] - 0s 4ms/step - loss: 0.0018\n",
            "Epoch 128/150\n",
            "29/29 [==============================] - 0s 4ms/step - loss: 0.0018\n",
            "Epoch 129/150\n",
            "29/29 [==============================] - 0s 4ms/step - loss: 0.0016\n",
            "Epoch 130/150\n",
            "29/29 [==============================] - 0s 4ms/step - loss: 0.0017\n",
            "Epoch 131/150\n",
            "29/29 [==============================] - 0s 4ms/step - loss: 0.0016\n",
            "Epoch 132/150\n",
            "29/29 [==============================] - 0s 5ms/step - loss: 0.0017\n",
            "Epoch 133/150\n",
            "29/29 [==============================] - 0s 5ms/step - loss: 0.0017\n",
            "Epoch 134/150\n",
            "29/29 [==============================] - 0s 4ms/step - loss: 0.0017\n",
            "Epoch 135/150\n",
            "29/29 [==============================] - 0s 4ms/step - loss: 0.0017\n",
            "Epoch 136/150\n",
            "29/29 [==============================] - 0s 5ms/step - loss: 0.0017\n",
            "Epoch 137/150\n",
            "29/29 [==============================] - 0s 5ms/step - loss: 0.0017\n",
            "Epoch 138/150\n",
            "29/29 [==============================] - 0s 5ms/step - loss: 0.0017\n",
            "Epoch 139/150\n",
            "29/29 [==============================] - 0s 5ms/step - loss: 0.0016\n",
            "Epoch 140/150\n",
            "29/29 [==============================] - 0s 4ms/step - loss: 0.0017\n",
            "Epoch 141/150\n",
            "29/29 [==============================] - 0s 4ms/step - loss: 0.0017\n",
            "Epoch 142/150\n",
            "29/29 [==============================] - 0s 4ms/step - loss: 0.0017\n",
            "Epoch 143/150\n",
            "29/29 [==============================] - 0s 5ms/step - loss: 0.0016\n",
            "Epoch 144/150\n",
            "29/29 [==============================] - 0s 4ms/step - loss: 0.0016\n",
            "Epoch 145/150\n",
            "29/29 [==============================] - 0s 4ms/step - loss: 0.0017\n",
            "Epoch 146/150\n",
            "29/29 [==============================] - 0s 4ms/step - loss: 0.0018\n",
            "Epoch 147/150\n",
            "29/29 [==============================] - 0s 4ms/step - loss: 0.0016\n",
            "Epoch 148/150\n",
            "29/29 [==============================] - 0s 4ms/step - loss: 0.0017\n",
            "Epoch 149/150\n",
            "29/29 [==============================] - 0s 4ms/step - loss: 0.0016\n",
            "Epoch 150/150\n",
            "29/29 [==============================] - 0s 4ms/step - loss: 0.0016\n"
          ],
          "name": "stdout"
        }
      ]
    },
    {
      "cell_type": "markdown",
      "metadata": {
        "id": "aEgKaknkjkbw",
        "colab_type": "text"
      },
      "source": [
        "* **Build Multivariate LSTM Models**"
      ]
    },
    {
      "cell_type": "code",
      "metadata": {
        "id": "X2LPA8Gd4QGY",
        "colab_type": "code",
        "outputId": "2fdcb61f-30a3-44ce-f02f-a68ddd24901a",
        "colab": {
          "base_uri": "https://localhost:8080/",
          "height": 1000
        }
      },
      "source": [
        "modelMulti = Sequential()\n",
        "modelMulti.add(LSTM(units = n_LSTMunits, input_shape = (x_trainMulti.shape[1] , x_trainMulti.shape[2])))\n",
        "modelMulti.add(Dropout(rate = n_DropoutRate))\n",
        "modelMulti.add(Dense(units = n_DenseUnits))\n",
        "modelMulti.compile(optimizer = n_optimizer, loss = n_loss)\n",
        "\n",
        "#Record the Training Time & Last Loss in Model Construction\n",
        "startTrain = time.perf_counter()\n",
        "historyMulti = modelMulti.fit(x = x_trainMulti, y = y_trainMulti, epochs = n_epoch, batch_size = n_batchsize)\n",
        "elapsedTrainMulti = time.perf_counter() - startTrain\n",
        "TTMulti = '%.4f' % elapsedTrainMulti\n",
        "LastLossMulti = '%.4f' % historyMulti.history['loss'][-1]"
      ],
      "execution_count": 27,
      "outputs": [
        {
          "output_type": "stream",
          "text": [
            "Epoch 1/150\n",
            "29/29 [==============================] - 0s 4ms/step - loss: 0.0565\n",
            "Epoch 2/150\n",
            "29/29 [==============================] - 0s 4ms/step - loss: 0.0078\n",
            "Epoch 3/150\n",
            "29/29 [==============================] - 0s 4ms/step - loss: 0.0060\n",
            "Epoch 4/150\n",
            "29/29 [==============================] - 0s 4ms/step - loss: 0.0050\n",
            "Epoch 5/150\n",
            "29/29 [==============================] - 0s 4ms/step - loss: 0.0050\n",
            "Epoch 6/150\n",
            "29/29 [==============================] - 0s 4ms/step - loss: 0.0049\n",
            "Epoch 7/150\n",
            "29/29 [==============================] - 0s 4ms/step - loss: 0.0043\n",
            "Epoch 8/150\n",
            "29/29 [==============================] - 0s 5ms/step - loss: 0.0045\n",
            "Epoch 9/150\n",
            "29/29 [==============================] - 0s 5ms/step - loss: 0.0042\n",
            "Epoch 10/150\n",
            "29/29 [==============================] - 0s 4ms/step - loss: 0.0040\n",
            "Epoch 11/150\n",
            "29/29 [==============================] - 0s 4ms/step - loss: 0.0036\n",
            "Epoch 12/150\n",
            "29/29 [==============================] - 0s 4ms/step - loss: 0.0038\n",
            "Epoch 13/150\n",
            "29/29 [==============================] - 0s 5ms/step - loss: 0.0038\n",
            "Epoch 14/150\n",
            "29/29 [==============================] - 0s 4ms/step - loss: 0.0037\n",
            "Epoch 15/150\n",
            "29/29 [==============================] - 0s 4ms/step - loss: 0.0037\n",
            "Epoch 16/150\n",
            "29/29 [==============================] - 0s 5ms/step - loss: 0.0037\n",
            "Epoch 17/150\n",
            "29/29 [==============================] - 0s 5ms/step - loss: 0.0037\n",
            "Epoch 18/150\n",
            "29/29 [==============================] - 0s 4ms/step - loss: 0.0034\n",
            "Epoch 19/150\n",
            "29/29 [==============================] - 0s 4ms/step - loss: 0.0035\n",
            "Epoch 20/150\n",
            "29/29 [==============================] - 0s 4ms/step - loss: 0.0032\n",
            "Epoch 21/150\n",
            "29/29 [==============================] - 0s 4ms/step - loss: 0.0034\n",
            "Epoch 22/150\n",
            "29/29 [==============================] - 0s 4ms/step - loss: 0.0033\n",
            "Epoch 23/150\n",
            "29/29 [==============================] - 0s 5ms/step - loss: 0.0034\n",
            "Epoch 24/150\n",
            "29/29 [==============================] - 0s 5ms/step - loss: 0.0032\n",
            "Epoch 25/150\n",
            "29/29 [==============================] - 0s 5ms/step - loss: 0.0031\n",
            "Epoch 26/150\n",
            "29/29 [==============================] - 0s 4ms/step - loss: 0.0029\n",
            "Epoch 27/150\n",
            "29/29 [==============================] - 0s 4ms/step - loss: 0.0032\n",
            "Epoch 28/150\n",
            "29/29 [==============================] - 0s 4ms/step - loss: 0.0030\n",
            "Epoch 29/150\n",
            "29/29 [==============================] - 0s 4ms/step - loss: 0.0030\n",
            "Epoch 30/150\n",
            "29/29 [==============================] - 0s 4ms/step - loss: 0.0030\n",
            "Epoch 31/150\n",
            "29/29 [==============================] - 0s 4ms/step - loss: 0.0030\n",
            "Epoch 32/150\n",
            "29/29 [==============================] - 0s 5ms/step - loss: 0.0030\n",
            "Epoch 33/150\n",
            "29/29 [==============================] - 0s 4ms/step - loss: 0.0029\n",
            "Epoch 34/150\n",
            "29/29 [==============================] - 0s 4ms/step - loss: 0.0031\n",
            "Epoch 35/150\n",
            "29/29 [==============================] - 0s 4ms/step - loss: 0.0027\n",
            "Epoch 36/150\n",
            "29/29 [==============================] - 0s 4ms/step - loss: 0.0029\n",
            "Epoch 37/150\n",
            "29/29 [==============================] - 0s 4ms/step - loss: 0.0027\n",
            "Epoch 38/150\n",
            "29/29 [==============================] - 0s 4ms/step - loss: 0.0029\n",
            "Epoch 39/150\n",
            "29/29 [==============================] - 0s 4ms/step - loss: 0.0028\n",
            "Epoch 40/150\n",
            "29/29 [==============================] - 0s 4ms/step - loss: 0.0027\n",
            "Epoch 41/150\n",
            "29/29 [==============================] - 0s 4ms/step - loss: 0.0027\n",
            "Epoch 42/150\n",
            "29/29 [==============================] - 0s 4ms/step - loss: 0.0028\n",
            "Epoch 43/150\n",
            "29/29 [==============================] - 0s 4ms/step - loss: 0.0026\n",
            "Epoch 44/150\n",
            "29/29 [==============================] - 0s 4ms/step - loss: 0.0028\n",
            "Epoch 45/150\n",
            "29/29 [==============================] - 0s 4ms/step - loss: 0.0026\n",
            "Epoch 46/150\n",
            "29/29 [==============================] - 0s 4ms/step - loss: 0.0026\n",
            "Epoch 47/150\n",
            "29/29 [==============================] - 0s 4ms/step - loss: 0.0025\n",
            "Epoch 48/150\n",
            "29/29 [==============================] - 0s 4ms/step - loss: 0.0025\n",
            "Epoch 49/150\n",
            "29/29 [==============================] - 0s 4ms/step - loss: 0.0028\n",
            "Epoch 50/150\n",
            "29/29 [==============================] - 0s 4ms/step - loss: 0.0024\n",
            "Epoch 51/150\n",
            "29/29 [==============================] - 0s 4ms/step - loss: 0.0026\n",
            "Epoch 52/150\n",
            "29/29 [==============================] - 0s 4ms/step - loss: 0.0025\n",
            "Epoch 53/150\n",
            "29/29 [==============================] - 0s 4ms/step - loss: 0.0027\n",
            "Epoch 54/150\n",
            "29/29 [==============================] - 0s 5ms/step - loss: 0.0025\n",
            "Epoch 55/150\n",
            "29/29 [==============================] - 0s 4ms/step - loss: 0.0023\n",
            "Epoch 56/150\n",
            "29/29 [==============================] - 0s 4ms/step - loss: 0.0025\n",
            "Epoch 57/150\n",
            "29/29 [==============================] - 0s 4ms/step - loss: 0.0026\n",
            "Epoch 58/150\n",
            "29/29 [==============================] - 0s 4ms/step - loss: 0.0022\n",
            "Epoch 59/150\n",
            "29/29 [==============================] - 0s 4ms/step - loss: 0.0022\n",
            "Epoch 60/150\n",
            "29/29 [==============================] - 0s 4ms/step - loss: 0.0022\n",
            "Epoch 61/150\n",
            "29/29 [==============================] - 0s 4ms/step - loss: 0.0024\n",
            "Epoch 62/150\n",
            "29/29 [==============================] - 0s 4ms/step - loss: 0.0024\n",
            "Epoch 63/150\n",
            "29/29 [==============================] - 0s 4ms/step - loss: 0.0023\n",
            "Epoch 64/150\n",
            "29/29 [==============================] - 0s 4ms/step - loss: 0.0023\n",
            "Epoch 65/150\n",
            "29/29 [==============================] - 0s 4ms/step - loss: 0.0023\n",
            "Epoch 66/150\n",
            "29/29 [==============================] - 0s 4ms/step - loss: 0.0022\n",
            "Epoch 67/150\n",
            "29/29 [==============================] - 0s 4ms/step - loss: 0.0023\n",
            "Epoch 68/150\n",
            "29/29 [==============================] - 0s 4ms/step - loss: 0.0023\n",
            "Epoch 69/150\n",
            "29/29 [==============================] - 0s 4ms/step - loss: 0.0023\n",
            "Epoch 70/150\n",
            "29/29 [==============================] - 0s 4ms/step - loss: 0.0024\n",
            "Epoch 71/150\n",
            "29/29 [==============================] - 0s 4ms/step - loss: 0.0022\n",
            "Epoch 72/150\n",
            "29/29 [==============================] - 0s 4ms/step - loss: 0.0022\n",
            "Epoch 73/150\n",
            "29/29 [==============================] - 0s 5ms/step - loss: 0.0023\n",
            "Epoch 74/150\n",
            "29/29 [==============================] - 0s 4ms/step - loss: 0.0023\n",
            "Epoch 75/150\n",
            "29/29 [==============================] - 0s 4ms/step - loss: 0.0022\n",
            "Epoch 76/150\n",
            "29/29 [==============================] - 0s 4ms/step - loss: 0.0023\n",
            "Epoch 77/150\n",
            "29/29 [==============================] - 0s 4ms/step - loss: 0.0022\n",
            "Epoch 78/150\n",
            "29/29 [==============================] - 0s 4ms/step - loss: 0.0022\n",
            "Epoch 79/150\n",
            "29/29 [==============================] - 0s 4ms/step - loss: 0.0021\n",
            "Epoch 80/150\n",
            "29/29 [==============================] - 0s 4ms/step - loss: 0.0021\n",
            "Epoch 81/150\n",
            "29/29 [==============================] - 0s 4ms/step - loss: 0.0021\n",
            "Epoch 82/150\n",
            "29/29 [==============================] - 0s 4ms/step - loss: 0.0020\n",
            "Epoch 83/150\n",
            "29/29 [==============================] - 0s 4ms/step - loss: 0.0021\n",
            "Epoch 84/150\n",
            "29/29 [==============================] - 0s 5ms/step - loss: 0.0022\n",
            "Epoch 85/150\n",
            "29/29 [==============================] - 0s 4ms/step - loss: 0.0023\n",
            "Epoch 86/150\n",
            "29/29 [==============================] - 0s 4ms/step - loss: 0.0020\n",
            "Epoch 87/150\n",
            "29/29 [==============================] - 0s 4ms/step - loss: 0.0020\n",
            "Epoch 88/150\n",
            "29/29 [==============================] - 0s 4ms/step - loss: 0.0020\n",
            "Epoch 89/150\n",
            "29/29 [==============================] - 0s 5ms/step - loss: 0.0020\n",
            "Epoch 90/150\n",
            "29/29 [==============================] - 0s 4ms/step - loss: 0.0019\n",
            "Epoch 91/150\n",
            "29/29 [==============================] - 0s 4ms/step - loss: 0.0021\n",
            "Epoch 92/150\n",
            "29/29 [==============================] - 0s 4ms/step - loss: 0.0020\n",
            "Epoch 93/150\n",
            "29/29 [==============================] - 0s 4ms/step - loss: 0.0020\n",
            "Epoch 94/150\n",
            "29/29 [==============================] - 0s 4ms/step - loss: 0.0020\n",
            "Epoch 95/150\n",
            "29/29 [==============================] - 0s 4ms/step - loss: 0.0018\n",
            "Epoch 96/150\n",
            "29/29 [==============================] - 0s 4ms/step - loss: 0.0020\n",
            "Epoch 97/150\n",
            "29/29 [==============================] - 0s 4ms/step - loss: 0.0019\n",
            "Epoch 98/150\n",
            "29/29 [==============================] - 0s 4ms/step - loss: 0.0019\n",
            "Epoch 99/150\n",
            "29/29 [==============================] - 0s 4ms/step - loss: 0.0020\n",
            "Epoch 100/150\n",
            "29/29 [==============================] - 0s 4ms/step - loss: 0.0019\n",
            "Epoch 101/150\n",
            "29/29 [==============================] - 0s 4ms/step - loss: 0.0019\n",
            "Epoch 102/150\n",
            "29/29 [==============================] - 0s 4ms/step - loss: 0.0019\n",
            "Epoch 103/150\n",
            "29/29 [==============================] - 0s 4ms/step - loss: 0.0019\n",
            "Epoch 104/150\n",
            "29/29 [==============================] - 0s 4ms/step - loss: 0.0020\n",
            "Epoch 105/150\n",
            "29/29 [==============================] - 0s 4ms/step - loss: 0.0020\n",
            "Epoch 106/150\n",
            "29/29 [==============================] - 0s 4ms/step - loss: 0.0018\n",
            "Epoch 107/150\n",
            "29/29 [==============================] - 0s 4ms/step - loss: 0.0019\n",
            "Epoch 108/150\n",
            "29/29 [==============================] - 0s 4ms/step - loss: 0.0018\n",
            "Epoch 109/150\n",
            "29/29 [==============================] - 0s 4ms/step - loss: 0.0019\n",
            "Epoch 110/150\n",
            "29/29 [==============================] - 0s 4ms/step - loss: 0.0018\n",
            "Epoch 111/150\n",
            "29/29 [==============================] - 0s 4ms/step - loss: 0.0019\n",
            "Epoch 112/150\n",
            "29/29 [==============================] - 0s 4ms/step - loss: 0.0019\n",
            "Epoch 113/150\n",
            "29/29 [==============================] - 0s 4ms/step - loss: 0.0019\n",
            "Epoch 114/150\n",
            "29/29 [==============================] - 0s 3ms/step - loss: 0.0018\n",
            "Epoch 115/150\n",
            "29/29 [==============================] - 0s 4ms/step - loss: 0.0018\n",
            "Epoch 116/150\n",
            "29/29 [==============================] - 0s 3ms/step - loss: 0.0018\n",
            "Epoch 117/150\n",
            "29/29 [==============================] - 0s 4ms/step - loss: 0.0018\n",
            "Epoch 118/150\n",
            "29/29 [==============================] - 0s 4ms/step - loss: 0.0018\n",
            "Epoch 119/150\n",
            "29/29 [==============================] - 0s 4ms/step - loss: 0.0019\n",
            "Epoch 120/150\n",
            "29/29 [==============================] - 0s 4ms/step - loss: 0.0018\n",
            "Epoch 121/150\n",
            "29/29 [==============================] - 0s 4ms/step - loss: 0.0018\n",
            "Epoch 122/150\n",
            "29/29 [==============================] - 0s 4ms/step - loss: 0.0018\n",
            "Epoch 123/150\n",
            "29/29 [==============================] - 0s 4ms/step - loss: 0.0018\n",
            "Epoch 124/150\n",
            "29/29 [==============================] - 0s 4ms/step - loss: 0.0017\n",
            "Epoch 125/150\n",
            "29/29 [==============================] - 0s 4ms/step - loss: 0.0017\n",
            "Epoch 126/150\n",
            "29/29 [==============================] - 0s 4ms/step - loss: 0.0018\n",
            "Epoch 127/150\n",
            "29/29 [==============================] - 0s 4ms/step - loss: 0.0018\n",
            "Epoch 128/150\n",
            "29/29 [==============================] - 0s 4ms/step - loss: 0.0017\n",
            "Epoch 129/150\n",
            "29/29 [==============================] - 0s 4ms/step - loss: 0.0017\n",
            "Epoch 130/150\n",
            "29/29 [==============================] - 0s 4ms/step - loss: 0.0016\n",
            "Epoch 131/150\n",
            "29/29 [==============================] - 0s 4ms/step - loss: 0.0018\n",
            "Epoch 132/150\n",
            "29/29 [==============================] - 0s 4ms/step - loss: 0.0018\n",
            "Epoch 133/150\n",
            "29/29 [==============================] - 0s 4ms/step - loss: 0.0017\n",
            "Epoch 134/150\n",
            "29/29 [==============================] - 0s 3ms/step - loss: 0.0017\n",
            "Epoch 135/150\n",
            "29/29 [==============================] - 0s 4ms/step - loss: 0.0017\n",
            "Epoch 136/150\n",
            "29/29 [==============================] - 0s 4ms/step - loss: 0.0018\n",
            "Epoch 137/150\n",
            "29/29 [==============================] - 0s 4ms/step - loss: 0.0018\n",
            "Epoch 138/150\n",
            "29/29 [==============================] - 0s 4ms/step - loss: 0.0017\n",
            "Epoch 139/150\n",
            "29/29 [==============================] - 0s 5ms/step - loss: 0.0017\n",
            "Epoch 140/150\n",
            "29/29 [==============================] - 0s 4ms/step - loss: 0.0018\n",
            "Epoch 141/150\n",
            "29/29 [==============================] - 0s 4ms/step - loss: 0.0017\n",
            "Epoch 142/150\n",
            "29/29 [==============================] - 0s 4ms/step - loss: 0.0018\n",
            "Epoch 143/150\n",
            "29/29 [==============================] - 0s 4ms/step - loss: 0.0017\n",
            "Epoch 144/150\n",
            "29/29 [==============================] - 0s 4ms/step - loss: 0.0016\n",
            "Epoch 145/150\n",
            "29/29 [==============================] - 0s 4ms/step - loss: 0.0017\n",
            "Epoch 146/150\n",
            "29/29 [==============================] - 0s 4ms/step - loss: 0.0018\n",
            "Epoch 147/150\n",
            "29/29 [==============================] - 0s 4ms/step - loss: 0.0016\n",
            "Epoch 148/150\n",
            "29/29 [==============================] - 0s 4ms/step - loss: 0.0018\n",
            "Epoch 149/150\n",
            "29/29 [==============================] - 0s 4ms/step - loss: 0.0016\n",
            "Epoch 150/150\n",
            "29/29 [==============================] - 0s 4ms/step - loss: 0.0017\n"
          ],
          "name": "stdout"
        }
      ]
    },
    {
      "cell_type": "markdown",
      "metadata": {
        "id": "55dqZ1bekFm6",
        "colab_type": "text"
      },
      "source": [
        "* **Stacked Line Plot for See Training Loss**"
      ]
    },
    {
      "cell_type": "code",
      "metadata": {
        "id": "4ZLedbU-4UJL",
        "colab_type": "code",
        "outputId": "9cdf15cb-bf4e-432b-d091-9467b9fd76ab",
        "colab": {
          "base_uri": "https://localhost:8080/",
          "height": 310
        }
      },
      "source": [
        "figLoss = plt.gcf()\n",
        "plt.plot(historyUni.history['loss'])\n",
        "plt.plot(historyMulti.history['loss'])\n",
        "plt.title(str(n_testProp)+ ' Test Size, ' +str(n_timestep)+ ' Timestep, ' \n",
        "          +str(n_LSTMunits)+ ' LSTM Units, ' +str(n_DropoutRate)+ ' Dropout Rate,\\n'\n",
        "          +str(n_optimizer)+ ' Optimizer, ' +str(n_epoch)+ ' Epoch, ' \n",
        "          +str(n_batchsize)+ ' Batch Size.')\n",
        "plt.xlabel('Epoch')\n",
        "plt.ylabel('Loss')\n",
        "plt.figtext(0.60, 0.70, \"TT Uni: \" +str(TTUni)+ \"\\nTT Multi: \" +str(TTMulti)+ \n",
        "            \"\\nLastLoss Uni: \" +str(LastLossUni)+ \"\\nLastLoss Multi: \" +str(LastLossMulti))\n",
        "plt.legend(['Train Loss Univariate', 'Train Loss Multivariate'], loc='upper left')\n",
        "plt.show()\n",
        "\n",
        "#Save Image of Plot for Training Loss\n",
        "figLoss.savefig(pathResults +str(n_testProp)+ ' Test Size, ' +str(n_timestep)+ ' Timestep, ' \n",
        "                +str(n_LSTMunits)+ ' LSTM Units, ' +str(n_DropoutRate)+ ' Dropout Rate, '\n",
        "                +str(n_optimizer)+ ' Optimizer, ' +str(n_epoch)+ ' Epoch, ' \n",
        "                +str(n_batchsize)+ ' Batch Size - Training Loss.png', dpi = 100)"
      ],
      "execution_count": 28,
      "outputs": [
        {
          "output_type": "display_data",
          "data": {
            "image/png": "[encoded data removed]",
            "text/plain": [
              "<Figure size 432x288 with 1 Axes>"
            ]
          },
          "metadata": {
            "tags": [],
            "needs_background": "light"
          }
        }
      ]
    },
    {
      "cell_type": "markdown",
      "metadata": {
        "id": "ZvdA9cHjm5D9",
        "colab_type": "text"
      },
      "source": [
        "* **Drawing Architecture**"
      ]
    },
    {
      "cell_type": "code",
      "metadata": {
        "id": "NGLKQZODnDKm",
        "colab_type": "code",
        "colab": {
          "base_uri": "https://localhost:8080/",
          "height": 422
        },
        "outputId": "8fcbdfef-e182-4cc6-a2cd-4ca108a32361"
      },
      "source": [
        "plot_model(modelUni, show_shapes=True, show_layer_names=True)"
      ],
      "execution_count": 29,
      "outputs": [
        {
          "output_type": "execute_result",
          "data": {
            "image/png": "[encoded data removed]",
            "text/plain": [
              "<IPython.core.display.Image object>"
            ]
          },
          "metadata": {
            "tags": []
          },
          "execution_count": 29
        }
      ]
    },
    {
      "cell_type": "markdown",
      "metadata": {
        "id": "tvojqsJZnDZN",
        "colab_type": "text"
      },
      "source": [
        ""
      ]
    },
    {
      "cell_type": "code",
      "metadata": {
        "id": "LJyNDfjzm2l8",
        "colab_type": "code",
        "colab": {
          "base_uri": "https://localhost:8080/",
          "height": 272
        },
        "outputId": "cb909f4f-c1cd-44dd-8eb9-60a6327944a6"
      },
      "source": [
        "print(modelUni.summary())"
      ],
      "execution_count": 30,
      "outputs": [
        {
          "output_type": "stream",
          "text": [
            "Model: \"sequential\"\n",
            "_________________________________________________________________\n",
            "Layer (type)                 Output Shape              Param #   \n",
            "=================================================================\n",
            "lstm (LSTM)                  (None, 50)                10400     \n",
            "_________________________________________________________________\n",
            "dropout (Dropout)            (None, 50)                0         \n",
            "_________________________________________________________________\n",
            "dense (Dense)                (None, 1)                 51        \n",
            "=================================================================\n",
            "Total params: 10,451\n",
            "Trainable params: 10,451\n",
            "Non-trainable params: 0\n",
            "_________________________________________________________________\n",
            "None\n"
          ],
          "name": "stdout"
        }
      ]
    },
    {
      "cell_type": "markdown",
      "metadata": {
        "id": "PKc48Pmb4ai1",
        "colab_type": "text"
      },
      "source": [
        "# ***Model Prediction / Testing***"
      ]
    },
    {
      "cell_type": "markdown",
      "metadata": {
        "id": "vWr-75tbmIl1",
        "colab_type": "text"
      },
      "source": [
        "* **Forecast with Univariate LSTM Models**"
      ]
    },
    {
      "cell_type": "code",
      "metadata": {
        "id": "w71dJY07mZbj",
        "colab_type": "code",
        "colab": {}
      },
      "source": [
        "y_testUni = modelUni.predict(x_testUni)\n",
        "data_testPredUni = sc.inverse_transform(y_testUni)      #Denormalization <> Scaling"
      ],
      "execution_count": 0,
      "outputs": []
    },
    {
      "cell_type": "markdown",
      "metadata": {
        "id": "ss3H0T-tmT-a",
        "colab_type": "text"
      },
      "source": [
        "* **Forecast with Multivariate LSTM Models**"
      ]
    },
    {
      "cell_type": "code",
      "metadata": {
        "id": "_Q3dVfs1mbqD",
        "colab_type": "code",
        "colab": {}
      },
      "source": [
        "y_testMulti = modelMulti.predict(x_testMulti) \n",
        "data_testPredMulti = scD.inverse_transform(y_testMulti) #Denormalization <> Scaling"
      ],
      "execution_count": 0,
      "outputs": []
    },
    {
      "cell_type": "markdown",
      "metadata": {
        "id": "JxKT1Zg7mwvh",
        "colab_type": "text"
      },
      "source": [
        "* **Combine and Save Result to Variable for Recaps in Excel**\n"
      ]
    },
    {
      "cell_type": "code",
      "metadata": {
        "id": "FCVYY88l44sW",
        "colab_type": "code",
        "colab": {}
      },
      "source": [
        "A_PredictionResult = np.hstack([data_testPredUni,data_testPredMulti])\n",
        "A_PredictionResult = np.around(A_PredictionResult, decimals=2, out=None)\n",
        "A_PredictionResult = A_PredictionResult.astype(str)     #Array String - Results Comma"
      ],
      "execution_count": 0,
      "outputs": []
    },
    {
      "cell_type": "markdown",
      "metadata": {
        "id": "DlIVDp7O47J3",
        "colab_type": "text"
      },
      "source": [
        "# ***Model Evaluation***"
      ]
    },
    {
      "cell_type": "markdown",
      "metadata": {
        "id": "QKS2jkiom3uS",
        "colab_type": "text"
      },
      "source": [
        "* **Mean Absolute Percentage Error Calculation Function**\n"
      ]
    },
    {
      "cell_type": "code",
      "metadata": {
        "id": "frYN8Gtl4pv5",
        "colab_type": "code",
        "colab": {}
      },
      "source": [
        "def mean_absolute_percentage_error(y_true, y_pred): \n",
        "    y_true, y_pred = np.array(y_true), np.array(y_pred)\n",
        "    return np.mean(np.abs((y_true - y_pred) / y_true)) * 100\n",
        "MAPEUni = '%.4f' % mean_absolute_percentage_error(data_testUni, data_testPredUni)         #Univariate\n",
        "MAPEMulti = '%.4f' % mean_absolute_percentage_error(data_testActual, data_testPredMulti)  #Multivariate"
      ],
      "execution_count": 0,
      "outputs": []
    },
    {
      "cell_type": "markdown",
      "metadata": {
        "id": "zyBiMgjFnMKx",
        "colab_type": "text"
      },
      "source": [
        "* **Stacked Line Plot for See Forecast Result & Evaluation**"
      ]
    },
    {
      "cell_type": "code",
      "metadata": {
        "id": "kiohNUqF4rew",
        "colab_type": "code",
        "outputId": "55657210-1fd7-4f1b-b7fc-dcfc45d9abb2",
        "colab": {
          "base_uri": "https://localhost:8080/",
          "height": 310
        }
      },
      "source": [
        "figPredict = plt.gcf()\n",
        "plt.plot(data_testActual, label = 'Real Stock Price', linewidth=0.75)\n",
        "plt.plot(data_testPredUni, label = 'Predicted Price Univariate', linewidth=0.75)\n",
        "plt.plot(data_testPredMulti, label = 'Predicted Price Multivariate', linewidth=0.75)\n",
        "plt.title(str(n_testProp)+ ' Test Size, ' +str(n_timestep)+ ' Timestep, ' \n",
        "          +str(n_LSTMunits)+ ' LSTM Units, ' +str(n_DropoutRate)+ ' Dropout Rate,\\n'\n",
        "          +str(n_optimizer)+ ' Optimizer, ' +str(n_epoch)+ ' Epoch, ' \n",
        "          +str(n_batchsize)+ ' Batch Size.')\n",
        "plt.xlabel('Period (Day)')\n",
        "plt.ylabel('Stock Price (Rupiah)')\n",
        "plt.figtext(0.63, 0.77, \"MAPE Uni: \" +str(MAPEUni)+ \"\\nMAPE Multi: \" +str(MAPEMulti))\n",
        "plt.legend()\n",
        "plt.show()\n",
        "\n",
        "#Save Image of Plot for Forecasting Visualization\n",
        "figPredict.savefig(pathResults +str(n_testProp)+ ' Test Size, ' +str(n_timestep)+ ' Timestep, ' \n",
        "                   +str(n_LSTMunits)+ ' LSTM Units, ' +str(n_DropoutRate)+ ' Dropout Rate, '\n",
        "                   +str(n_optimizer)+ ' Optimizer, ' +str(n_epoch)+ ' Epoch, ' \n",
        "                   +str(n_batchsize)+ ' Batch Size - Testing Result.png', dpi = 100)"
      ],
      "execution_count": 35,
      "outputs": [
        {
          "output_type": "display_data",
          "data": {
            "image/png": "[encoded data removed]",
            "text/plain": [
              "<Figure size 432x288 with 1 Axes>"
            ]
          },
          "metadata": {
            "tags": [],
            "needs_background": "light"
          }
        }
      ]
    },
    {
      "cell_type": "markdown",
      "metadata": {
        "id": "0ozWVEwHoIUX",
        "colab_type": "text"
      },
      "source": [
        "# ***Save Forecasting Results***"
      ]
    },
    {
      "cell_type": "markdown",
      "metadata": {
        "id": "x32KR5P1pHzX",
        "colab_type": "text"
      },
      "source": [
        "* **Result Summary**"
      ]
    },
    {
      "cell_type": "code",
      "metadata": {
        "id": "1hL_JAaLoQQZ",
        "colab_type": "code",
        "outputId": "e68b0a77-4b1b-4edf-ecb4-5511df01c767",
        "colab": {
          "base_uri": "https://localhost:8080/",
          "height": 306
        }
      },
      "source": [
        "something = \"\\n=================================\\n\"\n",
        "print(something + \"RECAP RESULT (MAPE, TT, LastLoss)\" + something)\n",
        "print(str(n_testProp)+ ' Test Size, ' +str(n_timestep)+ ' Timestep, ' \n",
        "      +str(n_LSTMunits)+ ' LSTM Units, ' +str(n_DropoutRate)+ ' Dropout Rate,'\n",
        "      +str(n_optimizer)+ ' Optimizer, ' +str(n_epoch)+ ' Epoch, ' \n",
        "      +str(n_batchsize)+ ' Batch Size\\n')\n",
        "print(\"— Univariate Model:\")\n",
        "print(\"MAPE\\t\\t= \" +MAPEUni+ \"\\nTraining Time\\t= \" +TTUni+ \"\\nLastLoss\\t= \" +LastLossUni+ \"\\n\")\n",
        "print(\"— Multivariate Model:\")\n",
        "print(\"MAPE\\t\\t= \" +MAPEMulti+ \"\\nTraining Time\\t= \" +TTMulti + \"\\nLastLoss\\t= \" +LastLossMulti+ \"\\n\")"
      ],
      "execution_count": 36,
      "outputs": [
        {
          "output_type": "stream",
          "text": [
            "\n",
            "=================================\n",
            "RECAP RESULT (MAPE, TT, LastLoss)\n",
            "=================================\n",
            "\n",
            "0.3 Test Size, 5 Timestep, 50 LSTM Units, 0.1 Dropout Rate,RMSprop Optimizer, 150 Epoch, 32 Batch Size\n",
            "\n",
            "— Univariate Model:\n",
            "MAPE\t\t= 1.3522\n",
            "Training Time\t= 21.5611\n",
            "LastLoss\t= 0.0016\n",
            "\n",
            "— Multivariate Model:\n",
            "MAPE\t\t= 1.5246\n",
            "Training Time\t= 20.8460\n",
            "LastLoss\t= 0.0017\n",
            "\n"
          ],
          "name": "stdout"
        }
      ]
    },
    {
      "cell_type": "markdown",
      "metadata": {
        "id": "8FEjzrOnpO4h",
        "colab_type": "text"
      },
      "source": [
        "* **Save Forecasting Result like Expected Format**\n"
      ]
    },
    {
      "cell_type": "code",
      "metadata": {
        "id": "ZOxMleP45P_h",
        "colab_type": "code",
        "colab": {}
      },
      "source": [
        "#Merge with Univariate-Multivariate Format\n",
        "A_EvaluationResult = [[MAPEUni, MAPEMulti], [TTUni, TTMulti], [LastLossUni, LastLossMulti]]\n",
        "A_EvaluationResult = np.asarray(A_EvaluationResult) #Array String\n",
        "\n",
        "#Desired Format\n",
        "A_AnExcelResult = np.concatenate((A_EvaluationResult, A_PredictionResult), axis=0)\n",
        "\n",
        "#Set to Dataframe\n",
        "A_AnExcelResult = pd.DataFrame(A_AnExcelResult)\n",
        "A_AnExcelResult.columns = ['Univariate', 'Multivariate']\n",
        "\n",
        "#Make the Value in a Cell in Auto Number Format (Excel)\n",
        "A_AnExcelResult.Univariate = A_AnExcelResult.Univariate.str.replace('.', ',')     \n",
        "A_AnExcelResult.Multivariate = A_AnExcelResult.Multivariate.str.replace('.', ',')\n",
        "\n",
        "A_AnExcelResult.to_excel(pathResults +str(n_testProp)+ ' Test Size, ' +str(n_timestep)+ ' Timestep, ' \n",
        "                         +str(n_LSTMunits)+ ' LSTM Units, ' +str(n_DropoutRate)+ ' Dropout Rate, ' \n",
        "                         +str(n_optimizer)+ ' Optimizer, ' +str(n_epoch)+ ' Epoch, ' \n",
        "                         +str(n_batchsize)+ ' Batch Size - Eval & Predict Excel.xlsx', \n",
        "                         index = False, header = False)"
      ],
      "execution_count": 0,
      "outputs": []
    }
  ]
}